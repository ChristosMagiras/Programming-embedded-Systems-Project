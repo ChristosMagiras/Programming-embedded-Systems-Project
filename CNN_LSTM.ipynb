{
 "cells": [
  {
   "cell_type": "markdown",
   "metadata": {},
   "source": [
    "# CN-LSTM model that has been designed to predict the temperature of a Home Automation Sensor Netwrok "
   ]
  },
  {
   "cell_type": "code",
   "execution_count": 74,
   "metadata": {},
   "outputs": [],
   "source": [
    "#Import the libraries\n",
    "import math\n",
    "import os\n",
    "import pandas_datareader as web\n",
    "import numpy as np\n",
    "import pandas as pd\n",
    "from sklearn.preprocessing import MinMaxScaler\n",
    "from keras.models import Sequential\n",
    "from keras.layers import Dense, LSTM\n",
    "import matplotlib.pyplot as plt\n",
    "plt.style.use('fivethirtyeight')\n",
    "import time\n",
    "import seaborn as sns\n",
    "import datetime\n",
    "\n",
    "\n",
    "import keras\n",
    "from statsmodels.tools.eval_measures import rmse\n",
    "from sklearn.preprocessing import MinMaxScaler\n",
    "from keras.preprocessing.sequence import TimeseriesGenerator\n",
    "from keras.models import Sequential\n",
    "from keras.layers import Dense\n",
    "from keras.layers import LSTM\n",
    "from keras.layers import Dropout\n",
    "import warnings\n",
    "\n",
    "import matplotlib.pyplot as plt\n",
    "import seaborn as sns\n",
    "from tensorflow.keras.layers import Dense,RepeatVector, LSTM, Dropout\n",
    "from tensorflow.keras.layers import Flatten, Conv1D, MaxPooling1D\n",
    "from tensorflow.keras.layers import Bidirectional, Dropout\n",
    "from tensorflow.keras.models import Sequential\n",
    "from tensorflow.keras.utils import plot_model\n",
    "import graphviz"
   ]
  },
  {
   "cell_type": "markdown",
   "metadata": {},
   "source": [
    "## Load and perform Data Manupilation"
   ]
  },
  {
   "cell_type": "code",
   "execution_count": 489,
   "metadata": {},
   "outputs": [],
   "source": [
    "#Load data onto a Data Frame\n",
    "df = pd.read_csv('temp_data.csv')"
   ]
  },
  {
   "cell_type": "code",
   "execution_count": 490,
   "metadata": {},
   "outputs": [
    {
     "data": {
      "text/html": [
       "<div>\n",
       "<style scoped>\n",
       "    .dataframe tbody tr th:only-of-type {\n",
       "        vertical-align: middle;\n",
       "    }\n",
       "\n",
       "    .dataframe tbody tr th {\n",
       "        vertical-align: top;\n",
       "    }\n",
       "\n",
       "    .dataframe thead th {\n",
       "        text-align: right;\n",
       "    }\n",
       "</style>\n",
       "<table border=\"1\" class=\"dataframe\">\n",
       "  <thead>\n",
       "    <tr style=\"text-align: right;\">\n",
       "      <th></th>\n",
       "      <th>timestamp</th>\n",
       "      <th>Temperature</th>\n",
       "      <th>Battery</th>\n",
       "      <th>Mote</th>\n",
       "      <th>Timestamp</th>\n",
       "      <th>new_date</th>\n",
       "      <th>new_time</th>\n",
       "    </tr>\n",
       "  </thead>\n",
       "  <tbody>\n",
       "    <tr>\n",
       "      <th>0</th>\n",
       "      <td>57:55.0</td>\n",
       "      <td>21.8125</td>\n",
       "      <td>2.977</td>\n",
       "      <td>34</td>\n",
       "      <td>1.589970e+12</td>\n",
       "      <td>20-05-2020</td>\n",
       "      <td>08:57</td>\n",
       "    </tr>\n",
       "    <tr>\n",
       "      <th>1</th>\n",
       "      <td>57:14.0</td>\n",
       "      <td>25.6500</td>\n",
       "      <td>3.000</td>\n",
       "      <td>143</td>\n",
       "      <td>1.589970e+12</td>\n",
       "      <td>20-05-2020</td>\n",
       "      <td>08:57</td>\n",
       "    </tr>\n",
       "    <tr>\n",
       "      <th>2</th>\n",
       "      <td>57:10.0</td>\n",
       "      <td>21.8125</td>\n",
       "      <td>2.749</td>\n",
       "      <td>38</td>\n",
       "      <td>1.589970e+12</td>\n",
       "      <td>20-05-2020</td>\n",
       "      <td>08:57</td>\n",
       "    </tr>\n",
       "    <tr>\n",
       "      <th>3</th>\n",
       "      <td>55:28.0</td>\n",
       "      <td>22.6875</td>\n",
       "      <td>2.937</td>\n",
       "      <td>142</td>\n",
       "      <td>1.589960e+12</td>\n",
       "      <td>20-05-2020</td>\n",
       "      <td>08:55</td>\n",
       "    </tr>\n",
       "    <tr>\n",
       "      <th>4</th>\n",
       "      <td>55:02.0</td>\n",
       "      <td>21.3125</td>\n",
       "      <td>2.583</td>\n",
       "      <td>42</td>\n",
       "      <td>1.589960e+12</td>\n",
       "      <td>20-05-2020</td>\n",
       "      <td>08:55</td>\n",
       "    </tr>\n",
       "  </tbody>\n",
       "</table>\n",
       "</div>"
      ],
      "text/plain": [
       "  timestamp  Temperature  Battery  Mote     Timestamp    new_date new_time\n",
       "0   57:55.0      21.8125    2.977    34  1.589970e+12  20-05-2020    08:57\n",
       "1   57:14.0      25.6500    3.000   143  1.589970e+12  20-05-2020    08:57\n",
       "2   57:10.0      21.8125    2.749    38  1.589970e+12  20-05-2020    08:57\n",
       "3   55:28.0      22.6875    2.937   142  1.589960e+12  20-05-2020    08:55\n",
       "4   55:02.0      21.3125    2.583    42  1.589960e+12  20-05-2020    08:55"
      ]
     },
     "execution_count": 490,
     "metadata": {},
     "output_type": "execute_result"
    }
   ],
   "source": [
    "#Check the Data\n",
    "df.head()"
   ]
  },
  {
   "cell_type": "code",
   "execution_count": 491,
   "metadata": {},
   "outputs": [
    {
     "data": {
      "text/plain": [
       "(87933, 7)"
      ]
     },
     "execution_count": 491,
     "metadata": {},
     "output_type": "execute_result"
    }
   ],
   "source": [
    "df.shape"
   ]
  },
  {
   "cell_type": "code",
   "execution_count": 495,
   "metadata": {},
   "outputs": [],
   "source": [
    "#Filer for only a particluar Mote and create a dataset\n",
    "mote = df['Mote']== 142"
   ]
  },
  {
   "cell_type": "code",
   "execution_count": 496,
   "metadata": {},
   "outputs": [],
   "source": [
    "df2 = df[mote]"
   ]
  },
  {
   "cell_type": "code",
   "execution_count": 497,
   "metadata": {},
   "outputs": [],
   "source": [
    "df.drop(['new_time'],axis=1,inplace=True)"
   ]
  },
  {
   "cell_type": "code",
   "execution_count": 498,
   "metadata": {},
   "outputs": [
    {
     "data": {
      "text/html": [
       "<div>\n",
       "<style scoped>\n",
       "    .dataframe tbody tr th:only-of-type {\n",
       "        vertical-align: middle;\n",
       "    }\n",
       "\n",
       "    .dataframe tbody tr th {\n",
       "        vertical-align: top;\n",
       "    }\n",
       "\n",
       "    .dataframe thead th {\n",
       "        text-align: right;\n",
       "    }\n",
       "</style>\n",
       "<table border=\"1\" class=\"dataframe\">\n",
       "  <thead>\n",
       "    <tr style=\"text-align: right;\">\n",
       "      <th></th>\n",
       "      <th>timestamp</th>\n",
       "      <th>Temperature</th>\n",
       "      <th>Battery</th>\n",
       "      <th>Mote</th>\n",
       "      <th>Timestamp</th>\n",
       "      <th>new_date</th>\n",
       "      <th>new_time</th>\n",
       "    </tr>\n",
       "  </thead>\n",
       "  <tbody>\n",
       "    <tr>\n",
       "      <th>3</th>\n",
       "      <td>55:28.0</td>\n",
       "      <td>22.6875</td>\n",
       "      <td>2.937</td>\n",
       "      <td>142</td>\n",
       "      <td>1.589960e+12</td>\n",
       "      <td>20-05-2020</td>\n",
       "      <td>08:55</td>\n",
       "    </tr>\n",
       "    <tr>\n",
       "      <th>11</th>\n",
       "      <td>50:28.0</td>\n",
       "      <td>22.7500</td>\n",
       "      <td>2.932</td>\n",
       "      <td>142</td>\n",
       "      <td>1.589960e+12</td>\n",
       "      <td>20-05-2020</td>\n",
       "      <td>08:50</td>\n",
       "    </tr>\n",
       "    <tr>\n",
       "      <th>18</th>\n",
       "      <td>45:30.0</td>\n",
       "      <td>22.5625</td>\n",
       "      <td>2.937</td>\n",
       "      <td>142</td>\n",
       "      <td>1.589960e+12</td>\n",
       "      <td>20-05-2020</td>\n",
       "      <td>08:45</td>\n",
       "    </tr>\n",
       "    <tr>\n",
       "      <th>26</th>\n",
       "      <td>40:28.0</td>\n",
       "      <td>22.6875</td>\n",
       "      <td>2.934</td>\n",
       "      <td>142</td>\n",
       "      <td>1.589960e+12</td>\n",
       "      <td>20-05-2020</td>\n",
       "      <td>08:40</td>\n",
       "    </tr>\n",
       "    <tr>\n",
       "      <th>34</th>\n",
       "      <td>35:28.0</td>\n",
       "      <td>22.5625</td>\n",
       "      <td>2.938</td>\n",
       "      <td>142</td>\n",
       "      <td>1.589960e+12</td>\n",
       "      <td>20-05-2020</td>\n",
       "      <td>08:35</td>\n",
       "    </tr>\n",
       "  </tbody>\n",
       "</table>\n",
       "</div>"
      ],
      "text/plain": [
       "   timestamp  Temperature  Battery  Mote     Timestamp    new_date new_time\n",
       "3    55:28.0      22.6875    2.937   142  1.589960e+12  20-05-2020    08:55\n",
       "11   50:28.0      22.7500    2.932   142  1.589960e+12  20-05-2020    08:50\n",
       "18   45:30.0      22.5625    2.937   142  1.589960e+12  20-05-2020    08:45\n",
       "26   40:28.0      22.6875    2.934   142  1.589960e+12  20-05-2020    08:40\n",
       "34   35:28.0      22.5625    2.938   142  1.589960e+12  20-05-2020    08:35"
      ]
     },
     "execution_count": 498,
     "metadata": {},
     "output_type": "execute_result"
    }
   ],
   "source": [
    "df2.head()"
   ]
  },
  {
   "cell_type": "code",
   "execution_count": 499,
   "metadata": {},
   "outputs": [
    {
     "name": "stderr",
     "output_type": "stream",
     "text": [
      "C:\\ProgramData\\Anaconda3\\lib\\site-packages\\ipykernel_launcher.py:1: SettingWithCopyWarning: \n",
      "A value is trying to be set on a copy of a slice from a DataFrame.\n",
      "Try using .loc[row_indexer,col_indexer] = value instead\n",
      "\n",
      "See the caveats in the documentation: https://pandas.pydata.org/pandas-docs/stable/user_guide/indexing.html#returning-a-view-versus-a-copy\n",
      "  \"\"\"Entry point for launching an IPython kernel.\n",
      "C:\\ProgramData\\Anaconda3\\lib\\site-packages\\ipykernel_launcher.py:2: SettingWithCopyWarning: \n",
      "A value is trying to be set on a copy of a slice from a DataFrame.\n",
      "Try using .loc[row_indexer,col_indexer] = value instead\n",
      "\n",
      "See the caveats in the documentation: https://pandas.pydata.org/pandas-docs/stable/user_guide/indexing.html#returning-a-view-versus-a-copy\n",
      "  \n"
     ]
    }
   ],
   "source": [
    "#Add the time and date and convert it to Datetime Format\n",
    "df2[\"Time\"] = df2[\"new_date\"].astype(str)+ ' ' + df2[\"new_time\"].astype(str)\n",
    "df2['Time'] = pd.to_datetime(df2['Time'])"
   ]
  },
  {
   "cell_type": "code",
   "execution_count": 500,
   "metadata": {},
   "outputs": [
    {
     "data": {
      "text/html": [
       "<div>\n",
       "<style scoped>\n",
       "    .dataframe tbody tr th:only-of-type {\n",
       "        vertical-align: middle;\n",
       "    }\n",
       "\n",
       "    .dataframe tbody tr th {\n",
       "        vertical-align: top;\n",
       "    }\n",
       "\n",
       "    .dataframe thead th {\n",
       "        text-align: right;\n",
       "    }\n",
       "</style>\n",
       "<table border=\"1\" class=\"dataframe\">\n",
       "  <thead>\n",
       "    <tr style=\"text-align: right;\">\n",
       "      <th></th>\n",
       "      <th>timestamp</th>\n",
       "      <th>Temperature</th>\n",
       "      <th>Battery</th>\n",
       "      <th>Mote</th>\n",
       "      <th>Timestamp</th>\n",
       "      <th>new_date</th>\n",
       "      <th>new_time</th>\n",
       "      <th>Time</th>\n",
       "    </tr>\n",
       "  </thead>\n",
       "  <tbody>\n",
       "    <tr>\n",
       "      <th>3</th>\n",
       "      <td>55:28.0</td>\n",
       "      <td>22.6875</td>\n",
       "      <td>2.937</td>\n",
       "      <td>142</td>\n",
       "      <td>1.589960e+12</td>\n",
       "      <td>20-05-2020</td>\n",
       "      <td>08:55</td>\n",
       "      <td>2020-05-20 08:55:00</td>\n",
       "    </tr>\n",
       "    <tr>\n",
       "      <th>11</th>\n",
       "      <td>50:28.0</td>\n",
       "      <td>22.7500</td>\n",
       "      <td>2.932</td>\n",
       "      <td>142</td>\n",
       "      <td>1.589960e+12</td>\n",
       "      <td>20-05-2020</td>\n",
       "      <td>08:50</td>\n",
       "      <td>2020-05-20 08:50:00</td>\n",
       "    </tr>\n",
       "    <tr>\n",
       "      <th>18</th>\n",
       "      <td>45:30.0</td>\n",
       "      <td>22.5625</td>\n",
       "      <td>2.937</td>\n",
       "      <td>142</td>\n",
       "      <td>1.589960e+12</td>\n",
       "      <td>20-05-2020</td>\n",
       "      <td>08:45</td>\n",
       "      <td>2020-05-20 08:45:00</td>\n",
       "    </tr>\n",
       "    <tr>\n",
       "      <th>26</th>\n",
       "      <td>40:28.0</td>\n",
       "      <td>22.6875</td>\n",
       "      <td>2.934</td>\n",
       "      <td>142</td>\n",
       "      <td>1.589960e+12</td>\n",
       "      <td>20-05-2020</td>\n",
       "      <td>08:40</td>\n",
       "      <td>2020-05-20 08:40:00</td>\n",
       "    </tr>\n",
       "    <tr>\n",
       "      <th>34</th>\n",
       "      <td>35:28.0</td>\n",
       "      <td>22.5625</td>\n",
       "      <td>2.938</td>\n",
       "      <td>142</td>\n",
       "      <td>1.589960e+12</td>\n",
       "      <td>20-05-2020</td>\n",
       "      <td>08:35</td>\n",
       "      <td>2020-05-20 08:35:00</td>\n",
       "    </tr>\n",
       "  </tbody>\n",
       "</table>\n",
       "</div>"
      ],
      "text/plain": [
       "   timestamp  Temperature  Battery  Mote     Timestamp    new_date new_time  \\\n",
       "3    55:28.0      22.6875    2.937   142  1.589960e+12  20-05-2020    08:55   \n",
       "11   50:28.0      22.7500    2.932   142  1.589960e+12  20-05-2020    08:50   \n",
       "18   45:30.0      22.5625    2.937   142  1.589960e+12  20-05-2020    08:45   \n",
       "26   40:28.0      22.6875    2.934   142  1.589960e+12  20-05-2020    08:40   \n",
       "34   35:28.0      22.5625    2.938   142  1.589960e+12  20-05-2020    08:35   \n",
       "\n",
       "                  Time  \n",
       "3  2020-05-20 08:55:00  \n",
       "11 2020-05-20 08:50:00  \n",
       "18 2020-05-20 08:45:00  \n",
       "26 2020-05-20 08:40:00  \n",
       "34 2020-05-20 08:35:00  "
      ]
     },
     "execution_count": 500,
     "metadata": {},
     "output_type": "execute_result"
    }
   ],
   "source": [
    "df2.head()"
   ]
  },
  {
   "cell_type": "code",
   "execution_count": 501,
   "metadata": {},
   "outputs": [],
   "source": [
    "#Make theh Index as the Time\n",
    "df2.set_index(['Time'],inplace=True)"
   ]
  },
  {
   "cell_type": "code",
   "execution_count": 502,
   "metadata": {},
   "outputs": [
    {
     "name": "stderr",
     "output_type": "stream",
     "text": [
      "C:\\ProgramData\\Anaconda3\\lib\\site-packages\\pandas\\core\\frame.py:3994: SettingWithCopyWarning: \n",
      "A value is trying to be set on a copy of a slice from a DataFrame\n",
      "\n",
      "See the caveats in the documentation: https://pandas.pydata.org/pandas-docs/stable/user_guide/indexing.html#returning-a-view-versus-a-copy\n",
      "  errors=errors,\n"
     ]
    }
   ],
   "source": [
    "#Remove all columns except the Temperature\n",
    "df2.drop(['new_date','new_time','timestamp','Timestamp','Battery','Mote'],axis=1,inplace=True)"
   ]
  },
  {
   "cell_type": "code",
   "execution_count": 503,
   "metadata": {},
   "outputs": [
    {
     "data": {
      "text/html": [
       "<div>\n",
       "<style scoped>\n",
       "    .dataframe tbody tr th:only-of-type {\n",
       "        vertical-align: middle;\n",
       "    }\n",
       "\n",
       "    .dataframe tbody tr th {\n",
       "        vertical-align: top;\n",
       "    }\n",
       "\n",
       "    .dataframe thead th {\n",
       "        text-align: right;\n",
       "    }\n",
       "</style>\n",
       "<table border=\"1\" class=\"dataframe\">\n",
       "  <thead>\n",
       "    <tr style=\"text-align: right;\">\n",
       "      <th></th>\n",
       "      <th>Temperature</th>\n",
       "    </tr>\n",
       "    <tr>\n",
       "      <th>Time</th>\n",
       "      <th></th>\n",
       "    </tr>\n",
       "  </thead>\n",
       "  <tbody>\n",
       "    <tr>\n",
       "      <th>2020-05-20 08:55:00</th>\n",
       "      <td>22.6875</td>\n",
       "    </tr>\n",
       "    <tr>\n",
       "      <th>2020-05-20 08:50:00</th>\n",
       "      <td>22.7500</td>\n",
       "    </tr>\n",
       "    <tr>\n",
       "      <th>2020-05-20 08:45:00</th>\n",
       "      <td>22.5625</td>\n",
       "    </tr>\n",
       "    <tr>\n",
       "      <th>2020-05-20 08:40:00</th>\n",
       "      <td>22.6875</td>\n",
       "    </tr>\n",
       "    <tr>\n",
       "      <th>2020-05-20 08:35:00</th>\n",
       "      <td>22.5625</td>\n",
       "    </tr>\n",
       "  </tbody>\n",
       "</table>\n",
       "</div>"
      ],
      "text/plain": [
       "                     Temperature\n",
       "Time                            \n",
       "2020-05-20 08:55:00      22.6875\n",
       "2020-05-20 08:50:00      22.7500\n",
       "2020-05-20 08:45:00      22.5625\n",
       "2020-05-20 08:40:00      22.6875\n",
       "2020-05-20 08:35:00      22.5625"
      ]
     },
     "execution_count": 503,
     "metadata": {},
     "output_type": "execute_result"
    }
   ],
   "source": [
    "df2.head()"
   ]
  },
  {
   "cell_type": "code",
   "execution_count": 504,
   "metadata": {},
   "outputs": [],
   "source": [
    "#Resample the data for every 30 minutes in an hour which gives 2 samples for every hours and 48 samples for a day\n",
    "data = df2.resample(rule='30T', closed='left', label='left', base=5).mean()"
   ]
  },
  {
   "cell_type": "code",
   "execution_count": 505,
   "metadata": {},
   "outputs": [
    {
     "data": {
      "text/html": [
       "<div>\n",
       "<style scoped>\n",
       "    .dataframe tbody tr th:only-of-type {\n",
       "        vertical-align: middle;\n",
       "    }\n",
       "\n",
       "    .dataframe tbody tr th {\n",
       "        vertical-align: top;\n",
       "    }\n",
       "\n",
       "    .dataframe thead th {\n",
       "        text-align: right;\n",
       "    }\n",
       "</style>\n",
       "<table border=\"1\" class=\"dataframe\">\n",
       "  <thead>\n",
       "    <tr style=\"text-align: right;\">\n",
       "      <th></th>\n",
       "      <th>Temperature</th>\n",
       "    </tr>\n",
       "    <tr>\n",
       "      <th>Time</th>\n",
       "      <th></th>\n",
       "    </tr>\n",
       "  </thead>\n",
       "  <tbody>\n",
       "    <tr>\n",
       "      <th>2020-01-03 00:05:00</th>\n",
       "      <td>23.604167</td>\n",
       "    </tr>\n",
       "    <tr>\n",
       "      <th>2020-01-03 00:35:00</th>\n",
       "      <td>23.625000</td>\n",
       "    </tr>\n",
       "    <tr>\n",
       "      <th>2020-01-03 01:05:00</th>\n",
       "      <td>23.734375</td>\n",
       "    </tr>\n",
       "    <tr>\n",
       "      <th>2020-01-03 01:35:00</th>\n",
       "      <td>23.666667</td>\n",
       "    </tr>\n",
       "    <tr>\n",
       "      <th>2020-01-03 02:05:00</th>\n",
       "      <td>23.520833</td>\n",
       "    </tr>\n",
       "  </tbody>\n",
       "</table>\n",
       "</div>"
      ],
      "text/plain": [
       "                     Temperature\n",
       "Time                            \n",
       "2020-01-03 00:05:00    23.604167\n",
       "2020-01-03 00:35:00    23.625000\n",
       "2020-01-03 01:05:00    23.734375\n",
       "2020-01-03 01:35:00    23.666667\n",
       "2020-01-03 02:05:00    23.520833"
      ]
     },
     "execution_count": 505,
     "metadata": {},
     "output_type": "execute_result"
    }
   ],
   "source": [
    "data.head()"
   ]
  },
  {
   "cell_type": "code",
   "execution_count": 506,
   "metadata": {},
   "outputs": [],
   "source": [
    "data.to_csv('Mote142_hour.csv',index=True)"
   ]
  },
  {
   "cell_type": "code",
   "execution_count": 26,
   "metadata": {},
   "outputs": [],
   "source": [
    "df = pd.read_csv('Mote142_hour.csv')"
   ]
  },
  {
   "cell_type": "code",
   "execution_count": 27,
   "metadata": {},
   "outputs": [
    {
     "data": {
      "text/html": [
       "<div>\n",
       "<style scoped>\n",
       "    .dataframe tbody tr th:only-of-type {\n",
       "        vertical-align: middle;\n",
       "    }\n",
       "\n",
       "    .dataframe tbody tr th {\n",
       "        vertical-align: top;\n",
       "    }\n",
       "\n",
       "    .dataframe thead th {\n",
       "        text-align: right;\n",
       "    }\n",
       "</style>\n",
       "<table border=\"1\" class=\"dataframe\">\n",
       "  <thead>\n",
       "    <tr style=\"text-align: right;\">\n",
       "      <th></th>\n",
       "      <th>Time</th>\n",
       "      <th>Temperature</th>\n",
       "    </tr>\n",
       "  </thead>\n",
       "  <tbody>\n",
       "    <tr>\n",
       "      <th>0</th>\n",
       "      <td>03-01-2020 00:05</td>\n",
       "      <td>23.604167</td>\n",
       "    </tr>\n",
       "    <tr>\n",
       "      <th>1</th>\n",
       "      <td>03-01-2020 00:35</td>\n",
       "      <td>23.625000</td>\n",
       "    </tr>\n",
       "    <tr>\n",
       "      <th>2</th>\n",
       "      <td>03-01-2020 01:05</td>\n",
       "      <td>23.734375</td>\n",
       "    </tr>\n",
       "    <tr>\n",
       "      <th>3</th>\n",
       "      <td>03-01-2020 01:35</td>\n",
       "      <td>23.666667</td>\n",
       "    </tr>\n",
       "    <tr>\n",
       "      <th>4</th>\n",
       "      <td>03-01-2020 02:05</td>\n",
       "      <td>23.520833</td>\n",
       "    </tr>\n",
       "  </tbody>\n",
       "</table>\n",
       "</div>"
      ],
      "text/plain": [
       "               Time  Temperature\n",
       "0  03-01-2020 00:05    23.604167\n",
       "1  03-01-2020 00:35    23.625000\n",
       "2  03-01-2020 01:05    23.734375\n",
       "3  03-01-2020 01:35    23.666667\n",
       "4  03-01-2020 02:05    23.520833"
      ]
     },
     "execution_count": 27,
     "metadata": {},
     "output_type": "execute_result"
    }
   ],
   "source": [
    "df.head()"
   ]
  },
  {
   "cell_type": "markdown",
   "metadata": {},
   "source": [
    "### Check for null or nan values and replace them with the average of the temperature values"
   ]
  },
  {
   "cell_type": "code",
   "execution_count": 29,
   "metadata": {},
   "outputs": [],
   "source": [
    "df.set_index(['Time'],inplace=True)"
   ]
  },
  {
   "cell_type": "code",
   "execution_count": 30,
   "metadata": {},
   "outputs": [
    {
     "data": {
      "text/plain": [
       "Temperature    12700\n",
       "dtype: int64"
      ]
     },
     "execution_count": 30,
     "metadata": {},
     "output_type": "execute_result"
    }
   ],
   "source": [
    "df.isna().sum()"
   ]
  },
  {
   "cell_type": "code",
   "execution_count": 31,
   "metadata": {},
   "outputs": [],
   "source": [
    "mean = df['Temperature'].mean()"
   ]
  },
  {
   "cell_type": "code",
   "execution_count": 32,
   "metadata": {},
   "outputs": [
    {
     "data": {
      "text/plain": [
       "22.825931926929613"
      ]
     },
     "execution_count": 32,
     "metadata": {},
     "output_type": "execute_result"
    }
   ],
   "source": [
    "mean"
   ]
  },
  {
   "cell_type": "code",
   "execution_count": 33,
   "metadata": {},
   "outputs": [],
   "source": [
    "df.fillna(df['Temperature'].mean(), inplace=True)"
   ]
  },
  {
   "cell_type": "code",
   "execution_count": 34,
   "metadata": {},
   "outputs": [
    {
     "data": {
      "text/plain": [
       "Temperature    0\n",
       "dtype: int64"
      ]
     },
     "execution_count": 34,
     "metadata": {},
     "output_type": "execute_result"
    }
   ],
   "source": [
    "df.isna().sum()"
   ]
  },
  {
   "cell_type": "code",
   "execution_count": 35,
   "metadata": {},
   "outputs": [
    {
     "data": {
      "text/html": [
       "<div>\n",
       "<style scoped>\n",
       "    .dataframe tbody tr th:only-of-type {\n",
       "        vertical-align: middle;\n",
       "    }\n",
       "\n",
       "    .dataframe tbody tr th {\n",
       "        vertical-align: top;\n",
       "    }\n",
       "\n",
       "    .dataframe thead th {\n",
       "        text-align: right;\n",
       "    }\n",
       "</style>\n",
       "<table border=\"1\" class=\"dataframe\">\n",
       "  <thead>\n",
       "    <tr style=\"text-align: right;\">\n",
       "      <th></th>\n",
       "      <th>Temperature</th>\n",
       "    </tr>\n",
       "    <tr>\n",
       "      <th>Time</th>\n",
       "      <th></th>\n",
       "    </tr>\n",
       "  </thead>\n",
       "  <tbody>\n",
       "    <tr>\n",
       "      <th>03-01-2020 00:05</th>\n",
       "      <td>23.604167</td>\n",
       "    </tr>\n",
       "    <tr>\n",
       "      <th>03-01-2020 00:35</th>\n",
       "      <td>23.625000</td>\n",
       "    </tr>\n",
       "    <tr>\n",
       "      <th>03-01-2020 01:05</th>\n",
       "      <td>23.734375</td>\n",
       "    </tr>\n",
       "    <tr>\n",
       "      <th>03-01-2020 01:35</th>\n",
       "      <td>23.666667</td>\n",
       "    </tr>\n",
       "    <tr>\n",
       "      <th>03-01-2020 02:05</th>\n",
       "      <td>23.520833</td>\n",
       "    </tr>\n",
       "  </tbody>\n",
       "</table>\n",
       "</div>"
      ],
      "text/plain": [
       "                  Temperature\n",
       "Time                         \n",
       "03-01-2020 00:05    23.604167\n",
       "03-01-2020 00:35    23.625000\n",
       "03-01-2020 01:05    23.734375\n",
       "03-01-2020 01:35    23.666667\n",
       "03-01-2020 02:05    23.520833"
      ]
     },
     "execution_count": 35,
     "metadata": {},
     "output_type": "execute_result"
    }
   ],
   "source": [
    "df.head()"
   ]
  },
  {
   "cell_type": "markdown",
   "metadata": {},
   "source": [
    "## Visualize the Data"
   ]
  },
  {
   "cell_type": "code",
   "execution_count": 43,
   "metadata": {},
   "outputs": [
    {
     "data": {
      "text/plain": [
       "<matplotlib.legend.Legend at 0x14315438e48>"
      ]
     },
     "execution_count": 43,
     "metadata": {},
     "output_type": "execute_result"
    },
    {
     "data": {
      "image/png": "[encoded data removed]",
      "text/plain": [
       "<Figure size 864x432 with 1 Axes>"
      ]
     },
     "metadata": {},
     "output_type": "display_data"
    }
   ],
   "source": [
    "sns.set()\n",
    "sns.set_style('whitegrid')\n",
    "df.plot(figsize=(12,6),label='Temperature')\n",
    "plt.legend()"
   ]
  },
  {
   "cell_type": "code",
   "execution_count": 42,
   "metadata": {},
   "outputs": [
    {
     "data": {
      "text/plain": [
       "(16224, 1)"
      ]
     },
     "execution_count": 42,
     "metadata": {},
     "output_type": "execute_result"
    }
   ],
   "source": [
    "df.shape"
   ]
  },
  {
   "cell_type": "markdown",
   "metadata": {},
   "source": [
    "## Perpare the Data for the learning"
   ]
  },
  {
   "cell_type": "markdown",
   "metadata": {},
   "source": [
    "#### This involves scaling the data to a particular range, splitting the data into training and test sets"
   ]
  },
  {
   "cell_type": "code",
   "execution_count": 44,
   "metadata": {},
   "outputs": [],
   "source": [
    "# Scaling data\n",
    "from sklearn.preprocessing import MinMaxScaler\n",
    "scalar = MinMaxScaler(feature_range=(-1,1))\n",
    "data_scaled = scalar.fit_transform(df)"
   ]
  },
  {
   "cell_type": "code",
   "execution_count": 46,
   "metadata": {},
   "outputs": [
    {
     "data": {
      "text/plain": [
       "(16224, 1)"
      ]
     },
     "execution_count": 46,
     "metadata": {},
     "output_type": "execute_result"
    }
   ],
   "source": [
    "data_scaled.shape"
   ]
  },
  {
   "cell_type": "code",
   "execution_count": 47,
   "metadata": {},
   "outputs": [],
   "source": [
    "steps = 30\n",
    "inp = []\n",
    "out = []\n",
    "for i in range(len(data_scaled)- (steps)):\n",
    "    inp.append(data_scaled[i:i+steps])\n",
    "    out.append(data_scaled[i+steps])"
   ]
  },
  {
   "cell_type": "code",
   "execution_count": 48,
   "metadata": {},
   "outputs": [],
   "source": [
    "inp=np.asanyarray(inp)\n",
    "out=np.asanyarray(out)"
   ]
  },
  {
   "cell_type": "code",
   "execution_count": 49,
   "metadata": {},
   "outputs": [],
   "source": [
    "x_train = inp[:16000,:,:]\n",
    "x_test = inp[16000:,:,:]    \n",
    "y_train = out[:16000]    \n",
    "y_test= out[16000:]"
   ]
  },
  {
   "cell_type": "code",
   "execution_count": 52,
   "metadata": {},
   "outputs": [
    {
     "data": {
      "text/plain": [
       "(194, 30, 1)"
      ]
     },
     "execution_count": 52,
     "metadata": {},
     "output_type": "execute_result"
    }
   ],
   "source": [
    "x_test.shape"
   ]
  },
  {
   "cell_type": "markdown",
   "metadata": {},
   "source": [
    "## Initialize the CN-LSTM model "
   ]
  },
  {
   "cell_type": "code",
   "execution_count": 103,
   "metadata": {},
   "outputs": [],
   "source": [
    "from keras.callbacks import ModelCheckpoint, TensorBoard, Callback, EarlyStopping\n",
    "early_stop = EarlyStopping(monitor = \"loss\", mode = \"min\", patience = 7)\n",
    "model = Sequential()\n",
    "model.add(Conv1D(filters=256, kernel_size=2, activation='relu', input_shape=(30,1)))\n",
    "model.add(Conv1D(filters=128, kernel_size=2, activation='relu'))\n",
    "model.add(MaxPooling1D(pool_size=2))\n",
    "model.add(Flatten())\n",
    "model.add(RepeatVector(30))\n",
    "model.add(LSTM(units=100, return_sequences=True, activation='relu'))\n",
    "model.add(Dropout(0.2))\n",
    "model.add(LSTM(units=100, return_sequences=True, activation='relu'))\n",
    "model.add(Dropout(0.2))\n",
    "model.add(LSTM(units=100, return_sequences=True, activation='relu'))\n",
    "model.add(LSTM(units=100, return_sequences=True, activation='relu'))\n",
    "model.add(Bidirectional(LSTM(128, activation='relu')))\n",
    "model.add(Dense(100, activation='relu'))\n",
    "model.add(Dense(1))\n",
    "model.compile(loss='mse', optimizer='adam')"
   ]
  },
  {
   "cell_type": "code",
   "execution_count": 105,
   "metadata": {},
   "outputs": [
    {
     "name": "stdout",
     "output_type": "stream",
     "text": [
      "Train on 16000 samples\n",
      "16000/16000 [==============================] - 145s 9ms/sample - loss: 0.0071\n"
     ]
    }
   ],
   "source": [
    "history = model.fit(x_train,y_train,epochs=1,verbose=1, callbacks = [early_stop] )"
   ]
  },
  {
   "cell_type": "markdown",
   "metadata": {},
   "source": [
    "## Calculate the accuracy and predict the values"
   ]
  },
  {
   "cell_type": "code",
   "execution_count": 107,
   "metadata": {},
   "outputs": [],
   "source": [
    "predict = model.predict(x_test)"
   ]
  },
  {
   "cell_type": "code",
   "execution_count": 108,
   "metadata": {},
   "outputs": [],
   "source": [
    "predict = scalar.inverse_transform(predict)"
   ]
  },
  {
   "cell_type": "code",
   "execution_count": 109,
   "metadata": {},
   "outputs": [],
   "source": [
    "Ytesting = scalar.inverse_transform(y_test)"
   ]
  },
  {
   "cell_type": "markdown",
   "metadata": {},
   "source": [
    "## Plotting the Predicted values against the Test values"
   ]
  },
  {
   "cell_type": "code",
   "execution_count": 110,
   "metadata": {},
   "outputs": [
    {
     "data": {
      "image/png": "[encoded data removed]",
      "text/plain": [
       "<Figure size 1440x648 with 1 Axes>"
      ]
     },
     "metadata": {},
     "output_type": "display_data"
    }
   ],
   "source": [
    "plt.figure(figsize=(20,9))\n",
    "plt.plot(Ytesting , 'blue', linewidth=5)\n",
    "plt.plot(predict,'r' , linewidth=4)\n",
    "plt.legend(('Test','Predicted'))\n",
    "plt.show()"
   ]
  },
  {
   "cell_type": "markdown",
   "metadata": {},
   "source": [
    "## Calcuating the Mean Squared Error"
   ]
  },
  {
   "cell_type": "code",
   "execution_count": 111,
   "metadata": {},
   "outputs": [
    {
     "data": {
      "text/plain": [
       "0.31591446136456236"
      ]
     },
     "execution_count": 111,
     "metadata": {},
     "output_type": "execute_result"
    }
   ],
   "source": [
    "from sklearn.metrics import mean_squared_error\n",
    "mean_squared_error(Ytesting, predict)"
   ]
  },
  {
   "cell_type": "markdown",
   "metadata": {},
   "source": [
    "## View the Summary of the model"
   ]
  },
  {
   "cell_type": "code",
   "execution_count": 112,
   "metadata": {},
   "outputs": [
    {
     "name": "stdout",
     "output_type": "stream",
     "text": [
      "Model: \"sequential_7\"\n",
      "_________________________________________________________________\n",
      "Layer (type)                 Output Shape              Param #   \n",
      "=================================================================\n",
      "conv1d_8 (Conv1D)            (None, 29, 256)           768       \n",
      "_________________________________________________________________\n",
      "conv1d_9 (Conv1D)            (None, 28, 128)           65664     \n",
      "_________________________________________________________________\n",
      "max_pooling1d_4 (MaxPooling1 (None, 14, 128)           0         \n",
      "_________________________________________________________________\n",
      "flatten_4 (Flatten)          (None, 1792)              0         \n",
      "_________________________________________________________________\n",
      "repeat_vector_4 (RepeatVecto (None, 30, 1792)          0         \n",
      "_________________________________________________________________\n",
      "lstm_26 (LSTM)               (None, 30, 100)           757200    \n",
      "_________________________________________________________________\n",
      "dropout_8 (Dropout)          (None, 30, 100)           0         \n",
      "_________________________________________________________________\n",
      "lstm_27 (LSTM)               (None, 30, 100)           80400     \n",
      "_________________________________________________________________\n",
      "dropout_9 (Dropout)          (None, 30, 100)           0         \n",
      "_________________________________________________________________\n",
      "lstm_28 (LSTM)               (None, 30, 100)           80400     \n",
      "_________________________________________________________________\n",
      "lstm_29 (LSTM)               (None, 30, 100)           80400     \n",
      "_________________________________________________________________\n",
      "bidirectional_4 (Bidirection (None, 256)               234496    \n",
      "_________________________________________________________________\n",
      "dense_14 (Dense)             (None, 100)               25700     \n",
      "_________________________________________________________________\n",
      "dense_15 (Dense)             (None, 1)                 101       \n",
      "=================================================================\n",
      "Total params: 1,325,129\n",
      "Trainable params: 1,325,129\n",
      "Non-trainable params: 0\n",
      "_________________________________________________________________\n"
     ]
    }
   ],
   "source": [
    "model.summary()"
   ]
  },
  {
   "cell_type": "markdown",
   "metadata": {},
   "source": [
    "## Save the model to a .hdf5 file"
   ]
  },
  {
   "cell_type": "code",
   "execution_count": 113,
   "metadata": {},
   "outputs": [],
   "source": [
    "model.save(\"regressor.hdf5\")"
   ]
  }
 ],
 "metadata": {
  "kernelspec": {
   "display_name": "Python 3",
   "language": "python",
   "name": "python3"
  },
  "language_info": {
   "codemirror_mode": {
    "name": "ipython",
    "version": 3
   },
   "file_extension": ".py",
   "mimetype": "text/x-python",
   "name": "python",
   "nbconvert_exporter": "python",
   "pygments_lexer": "ipython3",
   "version": "3.7.6"
  }
 },
 "nbformat": 4,
 "nbformat_minor": 4
}
