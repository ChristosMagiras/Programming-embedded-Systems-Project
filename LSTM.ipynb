{
 "cells": [
  {
   "cell_type": "markdown",
   "metadata": {},
   "source": [
    "# LSTM Model for Temperature Prediction for an Home Automated System"
   ]
  },
  {
   "cell_type": "code",
   "execution_count": 2,
   "metadata": {},
   "outputs": [
    {
     "name": "stderr",
     "output_type": "stream",
     "text": [
      "C:\\ProgramData\\Anaconda3\\lib\\site-packages\\pandas_datareader\\compat\\__init__.py:7: FutureWarning: pandas.util.testing is deprecated. Use the functions in the public API at pandas.testing instead.\n",
      "  from pandas.util.testing import assert_frame_equal\n",
      "Using TensorFlow backend.\n"
     ]
    }
   ],
   "source": [
    "#Import the libraries\n",
    "import math\n",
    "import os\n",
    "import pandas_datareader as web\n",
    "import numpy as np\n",
    "import pandas as pd\n",
    "from sklearn.preprocessing import MinMaxScaler\n",
    "from keras.models import Sequential\n",
    "from keras.layers import Dense, LSTM\n",
    "import matplotlib.pyplot as plt\n",
    "plt.style.use('fivethirtyeight')\n",
    "import time\n",
    "\n",
    "import keras\n",
    "from statsmodels.tools.eval_measures import rmse\n",
    "from sklearn.preprocessing import MinMaxScaler\n",
    "from keras.preprocessing.sequence import TimeseriesGenerator\n",
    "from keras.models import Sequential\n",
    "from keras.layers import Dense\n",
    "from keras.layers import LSTM\n",
    "from keras.layers import Dropout\n",
    "import warnings"
   ]
  },
  {
   "cell_type": "markdown",
   "metadata": {},
   "source": [
    "## Read the Data and perform the necessary data manupilation techniques"
   ]
  },
  {
   "cell_type": "code",
   "execution_count": 3,
   "metadata": {},
   "outputs": [],
   "source": [
    "df = pd.read_csv('Temp042.csv')"
   ]
  },
  {
   "cell_type": "code",
   "execution_count": 4,
   "metadata": {},
   "outputs": [
    {
     "data": {
      "text/html": [
       "<div>\n",
       "<style scoped>\n",
       "    .dataframe tbody tr th:only-of-type {\n",
       "        vertical-align: middle;\n",
       "    }\n",
       "\n",
       "    .dataframe tbody tr th {\n",
       "        vertical-align: top;\n",
       "    }\n",
       "\n",
       "    .dataframe thead th {\n",
       "        text-align: right;\n",
       "    }\n",
       "</style>\n",
       "<table border=\"1\" class=\"dataframe\">\n",
       "  <thead>\n",
       "    <tr style=\"text-align: right;\">\n",
       "      <th></th>\n",
       "      <th>Battery</th>\n",
       "      <th>Mote</th>\n",
       "      <th>Timestamp</th>\n",
       "      <th>Temperature</th>\n",
       "      <th>Time in Dec</th>\n",
       "      <th>Time</th>\n",
       "      <th>Date</th>\n",
       "    </tr>\n",
       "  </thead>\n",
       "  <tbody>\n",
       "    <tr>\n",
       "      <th>0</th>\n",
       "      <td>2.546</td>\n",
       "      <td>42</td>\n",
       "      <td>1.590000e+12</td>\n",
       "      <td>22.2500</td>\n",
       "      <td>1585567613</td>\n",
       "      <td>11:26</td>\n",
       "      <td>03-30-2020</td>\n",
       "    </tr>\n",
       "    <tr>\n",
       "      <th>1</th>\n",
       "      <td>2.546</td>\n",
       "      <td>42</td>\n",
       "      <td>1.590000e+12</td>\n",
       "      <td>22.2500</td>\n",
       "      <td>1585567014</td>\n",
       "      <td>11:16</td>\n",
       "      <td>03-30-2020</td>\n",
       "    </tr>\n",
       "    <tr>\n",
       "      <th>2</th>\n",
       "      <td>2.546</td>\n",
       "      <td>42</td>\n",
       "      <td>1.590000e+12</td>\n",
       "      <td>22.3125</td>\n",
       "      <td>1585566414</td>\n",
       "      <td>11:06</td>\n",
       "      <td>03-30-2020</td>\n",
       "    </tr>\n",
       "    <tr>\n",
       "      <th>3</th>\n",
       "      <td>2.545</td>\n",
       "      <td>42</td>\n",
       "      <td>1.590000e+12</td>\n",
       "      <td>22.3125</td>\n",
       "      <td>1585565813</td>\n",
       "      <td>10:56</td>\n",
       "      <td>03-30-2020</td>\n",
       "    </tr>\n",
       "    <tr>\n",
       "      <th>4</th>\n",
       "      <td>2.546</td>\n",
       "      <td>42</td>\n",
       "      <td>1.590000e+12</td>\n",
       "      <td>22.3750</td>\n",
       "      <td>1585564014</td>\n",
       "      <td>10:26</td>\n",
       "      <td>03-30-2020</td>\n",
       "    </tr>\n",
       "  </tbody>\n",
       "</table>\n",
       "</div>"
      ],
      "text/plain": [
       "   Battery  Mote     Timestamp  Temperature  Time in Dec   Time        Date\n",
       "0    2.546    42  1.590000e+12      22.2500   1585567613  11:26  03-30-2020\n",
       "1    2.546    42  1.590000e+12      22.2500   1585567014  11:16  03-30-2020\n",
       "2    2.546    42  1.590000e+12      22.3125   1585566414  11:06  03-30-2020\n",
       "3    2.545    42  1.590000e+12      22.3125   1585565813  10:56  03-30-2020\n",
       "4    2.546    42  1.590000e+12      22.3750   1585564014  10:26  03-30-2020"
      ]
     },
     "execution_count": 4,
     "metadata": {},
     "output_type": "execute_result"
    }
   ],
   "source": [
    "df.head()"
   ]
  },
  {
   "cell_type": "code",
   "execution_count": 5,
   "metadata": {},
   "outputs": [],
   "source": [
    "df[\"Time\"] = df[\"Date\"].astype(str)+ ' ' + df[\"Time\"].astype(str)"
   ]
  },
  {
   "cell_type": "markdown",
   "metadata": {},
   "source": [
    "## Plotting the Rough Data"
   ]
  },
  {
   "cell_type": "code",
   "execution_count": 6,
   "metadata": {},
   "outputs": [
    {
     "data": {
      "image/png": "[encoded data removed]",
      "text/plain": [
       "<Figure size 432x288 with 1 Axes>"
      ]
     },
     "metadata": {},
     "output_type": "display_data"
    },
    {
     "data": {
      "text/plain": [
       "<Figure size 720x432 with 0 Axes>"
      ]
     },
     "metadata": {},
     "output_type": "display_data"
    }
   ],
   "source": [
    "plt.plot(df['Date'],df['Temperature'])\n",
    "plt.figure(figsize=(10,6))\n",
    "plt.show()"
   ]
  },
  {
   "cell_type": "code",
   "execution_count": 22,
   "metadata": {},
   "outputs": [
    {
     "data": {
      "text/html": [
       "<div>\n",
       "<style scoped>\n",
       "    .dataframe tbody tr th:only-of-type {\n",
       "        vertical-align: middle;\n",
       "    }\n",
       "\n",
       "    .dataframe tbody tr th {\n",
       "        vertical-align: top;\n",
       "    }\n",
       "\n",
       "    .dataframe thead th {\n",
       "        text-align: right;\n",
       "    }\n",
       "</style>\n",
       "<table border=\"1\" class=\"dataframe\">\n",
       "  <thead>\n",
       "    <tr style=\"text-align: right;\">\n",
       "      <th></th>\n",
       "      <th>Battery</th>\n",
       "      <th>Mote</th>\n",
       "      <th>Timestamp</th>\n",
       "      <th>Temperature</th>\n",
       "      <th>Time in Dec</th>\n",
       "      <th>Time</th>\n",
       "      <th>Date</th>\n",
       "    </tr>\n",
       "  </thead>\n",
       "  <tbody>\n",
       "    <tr>\n",
       "      <th>0</th>\n",
       "      <td>2.546</td>\n",
       "      <td>42</td>\n",
       "      <td>1.590000e+12</td>\n",
       "      <td>22.2500</td>\n",
       "      <td>1585567613</td>\n",
       "      <td>03-30-2020 11:26</td>\n",
       "      <td>03-30-2020</td>\n",
       "    </tr>\n",
       "    <tr>\n",
       "      <th>1</th>\n",
       "      <td>2.546</td>\n",
       "      <td>42</td>\n",
       "      <td>1.590000e+12</td>\n",
       "      <td>22.2500</td>\n",
       "      <td>1585567014</td>\n",
       "      <td>03-30-2020 11:16</td>\n",
       "      <td>03-30-2020</td>\n",
       "    </tr>\n",
       "    <tr>\n",
       "      <th>2</th>\n",
       "      <td>2.546</td>\n",
       "      <td>42</td>\n",
       "      <td>1.590000e+12</td>\n",
       "      <td>22.3125</td>\n",
       "      <td>1585566414</td>\n",
       "      <td>03-30-2020 11:06</td>\n",
       "      <td>03-30-2020</td>\n",
       "    </tr>\n",
       "    <tr>\n",
       "      <th>3</th>\n",
       "      <td>2.545</td>\n",
       "      <td>42</td>\n",
       "      <td>1.590000e+12</td>\n",
       "      <td>22.3125</td>\n",
       "      <td>1585565813</td>\n",
       "      <td>03-30-2020 10:56</td>\n",
       "      <td>03-30-2020</td>\n",
       "    </tr>\n",
       "    <tr>\n",
       "      <th>4</th>\n",
       "      <td>2.546</td>\n",
       "      <td>42</td>\n",
       "      <td>1.590000e+12</td>\n",
       "      <td>22.3750</td>\n",
       "      <td>1585564014</td>\n",
       "      <td>03-30-2020 10:26</td>\n",
       "      <td>03-30-2020</td>\n",
       "    </tr>\n",
       "  </tbody>\n",
       "</table>\n",
       "</div>"
      ],
      "text/plain": [
       "   Battery  Mote     Timestamp  Temperature  Time in Dec              Time  \\\n",
       "0    2.546    42  1.590000e+12      22.2500   1585567613  03-30-2020 11:26   \n",
       "1    2.546    42  1.590000e+12      22.2500   1585567014  03-30-2020 11:16   \n",
       "2    2.546    42  1.590000e+12      22.3125   1585566414  03-30-2020 11:06   \n",
       "3    2.545    42  1.590000e+12      22.3125   1585565813  03-30-2020 10:56   \n",
       "4    2.546    42  1.590000e+12      22.3750   1585564014  03-30-2020 10:26   \n",
       "\n",
       "         Date  \n",
       "0  03-30-2020  \n",
       "1  03-30-2020  \n",
       "2  03-30-2020  \n",
       "3  03-30-2020  \n",
       "4  03-30-2020  "
      ]
     },
     "execution_count": 22,
     "metadata": {},
     "output_type": "execute_result"
    }
   ],
   "source": [
    "df.head()"
   ]
  },
  {
   "cell_type": "code",
   "execution_count": 23,
   "metadata": {},
   "outputs": [],
   "source": [
    "df.to_csv('temper_42.csv',index=False)"
   ]
  },
  {
   "cell_type": "code",
   "execution_count": 24,
   "metadata": {},
   "outputs": [],
   "source": [
    "data = pd.read_csv(\"temper_42.csv\")"
   ]
  },
  {
   "cell_type": "code",
   "execution_count": 25,
   "metadata": {},
   "outputs": [],
   "source": [
    "#Create a new dataframe with only the 'Close column\n",
    "data = df.filter(['Temperature','Time'])\n",
    "#Convert the dataframe to a numpy array\n",
    "dataset = data.values"
   ]
  },
  {
   "cell_type": "code",
   "execution_count": 27,
   "metadata": {},
   "outputs": [],
   "source": [
    "data['Time'] = pd.to_datetime(data['Time'])"
   ]
  },
  {
   "cell_type": "code",
   "execution_count": 28,
   "metadata": {},
   "outputs": [
    {
     "name": "stdout",
     "output_type": "stream",
     "text": [
      "<class 'pandas.core.frame.DataFrame'>\n",
      "RangeIndex: 3861 entries, 0 to 3860\n",
      "Data columns (total 2 columns):\n",
      " #   Column       Non-Null Count  Dtype         \n",
      "---  ------       --------------  -----         \n",
      " 0   Temperature  3861 non-null   float64       \n",
      " 1   Time         3861 non-null   datetime64[ns]\n",
      "dtypes: datetime64[ns](1), float64(1)\n",
      "memory usage: 60.5 KB\n"
     ]
    }
   ],
   "source": [
    "data.info()"
   ]
  },
  {
   "cell_type": "code",
   "execution_count": 29,
   "metadata": {},
   "outputs": [],
   "source": [
    "data.to_csv('temperature_42.csv',index=False)"
   ]
  },
  {
   "cell_type": "code",
   "execution_count": 30,
   "metadata": {},
   "outputs": [],
   "source": [
    "data = pd.read_csv(\"temperature_42.csv\")"
   ]
  },
  {
   "cell_type": "code",
   "execution_count": 31,
   "metadata": {},
   "outputs": [
    {
     "data": {
      "text/html": [
       "<div>\n",
       "<style scoped>\n",
       "    .dataframe tbody tr th:only-of-type {\n",
       "        vertical-align: middle;\n",
       "    }\n",
       "\n",
       "    .dataframe tbody tr th {\n",
       "        vertical-align: top;\n",
       "    }\n",
       "\n",
       "    .dataframe thead th {\n",
       "        text-align: right;\n",
       "    }\n",
       "</style>\n",
       "<table border=\"1\" class=\"dataframe\">\n",
       "  <thead>\n",
       "    <tr style=\"text-align: right;\">\n",
       "      <th></th>\n",
       "      <th>Temperature</th>\n",
       "      <th>Time</th>\n",
       "    </tr>\n",
       "  </thead>\n",
       "  <tbody>\n",
       "    <tr>\n",
       "      <th>3856</th>\n",
       "      <td>22.2500</td>\n",
       "      <td>2020-02-17 22:36:00</td>\n",
       "    </tr>\n",
       "    <tr>\n",
       "      <th>3857</th>\n",
       "      <td>22.4375</td>\n",
       "      <td>2020-02-17 22:21:00</td>\n",
       "    </tr>\n",
       "    <tr>\n",
       "      <th>3858</th>\n",
       "      <td>22.3750</td>\n",
       "      <td>2020-02-17 22:01:00</td>\n",
       "    </tr>\n",
       "    <tr>\n",
       "      <th>3859</th>\n",
       "      <td>22.4375</td>\n",
       "      <td>2020-02-17 21:16:00</td>\n",
       "    </tr>\n",
       "    <tr>\n",
       "      <th>3860</th>\n",
       "      <td>22.5625</td>\n",
       "      <td>2020-02-17 21:06:00</td>\n",
       "    </tr>\n",
       "  </tbody>\n",
       "</table>\n",
       "</div>"
      ],
      "text/plain": [
       "      Temperature                 Time\n",
       "3856      22.2500  2020-02-17 22:36:00\n",
       "3857      22.4375  2020-02-17 22:21:00\n",
       "3858      22.3750  2020-02-17 22:01:00\n",
       "3859      22.4375  2020-02-17 21:16:00\n",
       "3860      22.5625  2020-02-17 21:06:00"
      ]
     },
     "execution_count": 31,
     "metadata": {},
     "output_type": "execute_result"
    }
   ],
   "source": [
    "data.tail()"
   ]
  },
  {
   "cell_type": "code",
   "execution_count": 32,
   "metadata": {},
   "outputs": [],
   "source": [
    "data.dropna(inplace=True)"
   ]
  },
  {
   "cell_type": "code",
   "execution_count": 33,
   "metadata": {},
   "outputs": [],
   "source": [
    "data.set_index(['Time'],inplace=True)"
   ]
  },
  {
   "cell_type": "code",
   "execution_count": 34,
   "metadata": {},
   "outputs": [
    {
     "data": {
      "text/html": [
       "<div>\n",
       "<style scoped>\n",
       "    .dataframe tbody tr th:only-of-type {\n",
       "        vertical-align: middle;\n",
       "    }\n",
       "\n",
       "    .dataframe tbody tr th {\n",
       "        vertical-align: top;\n",
       "    }\n",
       "\n",
       "    .dataframe thead th {\n",
       "        text-align: right;\n",
       "    }\n",
       "</style>\n",
       "<table border=\"1\" class=\"dataframe\">\n",
       "  <thead>\n",
       "    <tr style=\"text-align: right;\">\n",
       "      <th></th>\n",
       "      <th>Temperature</th>\n",
       "    </tr>\n",
       "    <tr>\n",
       "      <th>Time</th>\n",
       "      <th></th>\n",
       "    </tr>\n",
       "  </thead>\n",
       "  <tbody>\n",
       "    <tr>\n",
       "      <th>2020-02-17 22:36:00</th>\n",
       "      <td>22.2500</td>\n",
       "    </tr>\n",
       "    <tr>\n",
       "      <th>2020-02-17 22:21:00</th>\n",
       "      <td>22.4375</td>\n",
       "    </tr>\n",
       "    <tr>\n",
       "      <th>2020-02-17 22:01:00</th>\n",
       "      <td>22.3750</td>\n",
       "    </tr>\n",
       "    <tr>\n",
       "      <th>2020-02-17 21:16:00</th>\n",
       "      <td>22.4375</td>\n",
       "    </tr>\n",
       "    <tr>\n",
       "      <th>2020-02-17 21:06:00</th>\n",
       "      <td>22.5625</td>\n",
       "    </tr>\n",
       "  </tbody>\n",
       "</table>\n",
       "</div>"
      ],
      "text/plain": [
       "                     Temperature\n",
       "Time                            \n",
       "2020-02-17 22:36:00      22.2500\n",
       "2020-02-17 22:21:00      22.4375\n",
       "2020-02-17 22:01:00      22.3750\n",
       "2020-02-17 21:16:00      22.4375\n",
       "2020-02-17 21:06:00      22.5625"
      ]
     },
     "execution_count": 34,
     "metadata": {},
     "output_type": "execute_result"
    }
   ],
   "source": [
    "data.tail()"
   ]
  },
  {
   "cell_type": "code",
   "execution_count": 35,
   "metadata": {},
   "outputs": [],
   "source": [
    "dataset = data.values"
   ]
  },
  {
   "cell_type": "markdown",
   "metadata": {},
   "source": [
    "## Plotting the Cleaned Data"
   ]
  },
  {
   "cell_type": "code",
   "execution_count": 36,
   "metadata": {},
   "outputs": [
    {
     "data": {
      "image/png": "[encoded data removed]",
      "text/plain": [
       "<Figure size 432x288 with 1 Axes>"
      ]
     },
     "metadata": {},
     "output_type": "display_data"
    },
    {
     "data": {
      "text/plain": [
       "<Figure size 720x432 with 0 Axes>"
      ]
     },
     "metadata": {},
     "output_type": "display_data"
    }
   ],
   "source": [
    "plt.plot(data['Temperature'])\n",
    "plt.figure(figsize=(10,6))\n",
    "plt.show()"
   ]
  },
  {
   "cell_type": "code",
   "execution_count": 37,
   "metadata": {},
   "outputs": [
    {
     "data": {
      "text/plain": [
       "3861"
      ]
     },
     "execution_count": 37,
     "metadata": {},
     "output_type": "execute_result"
    }
   ],
   "source": [
    "data.size"
   ]
  },
  {
   "cell_type": "code",
   "execution_count": 38,
   "metadata": {},
   "outputs": [
    {
     "data": {
      "text/html": [
       "<div>\n",
       "<style scoped>\n",
       "    .dataframe tbody tr th:only-of-type {\n",
       "        vertical-align: middle;\n",
       "    }\n",
       "\n",
       "    .dataframe tbody tr th {\n",
       "        vertical-align: top;\n",
       "    }\n",
       "\n",
       "    .dataframe thead th {\n",
       "        text-align: right;\n",
       "    }\n",
       "</style>\n",
       "<table border=\"1\" class=\"dataframe\">\n",
       "  <thead>\n",
       "    <tr style=\"text-align: right;\">\n",
       "      <th></th>\n",
       "      <th>Temperature</th>\n",
       "    </tr>\n",
       "    <tr>\n",
       "      <th>Time</th>\n",
       "      <th></th>\n",
       "    </tr>\n",
       "  </thead>\n",
       "  <tbody>\n",
       "    <tr>\n",
       "      <th>2020-03-30 11:26:00</th>\n",
       "      <td>22.2500</td>\n",
       "    </tr>\n",
       "    <tr>\n",
       "      <th>2020-03-30 11:16:00</th>\n",
       "      <td>22.2500</td>\n",
       "    </tr>\n",
       "    <tr>\n",
       "      <th>2020-03-30 11:06:00</th>\n",
       "      <td>22.3125</td>\n",
       "    </tr>\n",
       "    <tr>\n",
       "      <th>2020-03-30 10:56:00</th>\n",
       "      <td>22.3125</td>\n",
       "    </tr>\n",
       "    <tr>\n",
       "      <th>2020-03-30 10:26:00</th>\n",
       "      <td>22.3750</td>\n",
       "    </tr>\n",
       "  </tbody>\n",
       "</table>\n",
       "</div>"
      ],
      "text/plain": [
       "                     Temperature\n",
       "Time                            \n",
       "2020-03-30 11:26:00      22.2500\n",
       "2020-03-30 11:16:00      22.2500\n",
       "2020-03-30 11:06:00      22.3125\n",
       "2020-03-30 10:56:00      22.3125\n",
       "2020-03-30 10:26:00      22.3750"
      ]
     },
     "execution_count": 38,
     "metadata": {},
     "output_type": "execute_result"
    }
   ],
   "source": [
    "dataset = data.values\n",
    "data.head()"
   ]
  },
  {
   "cell_type": "markdown",
   "metadata": {},
   "source": [
    "## Scale the data to the necessary format and split it for testing and training"
   ]
  },
  {
   "cell_type": "code",
   "execution_count": 39,
   "metadata": {},
   "outputs": [
    {
     "data": {
      "text/plain": [
       "3089"
      ]
     },
     "execution_count": 39,
     "metadata": {},
     "output_type": "execute_result"
    }
   ],
   "source": [
    "scaler = MinMaxScaler(feature_range=(0,1))\n",
    "scaled_data = scaler.fit_transform(dataset)\n",
    "scaled_data\n",
    "training_data_len = math.ceil( len(dataset) * .8 )\n",
    "training_data_len"
   ]
  },
  {
   "cell_type": "code",
   "execution_count": 40,
   "metadata": {},
   "outputs": [
    {
     "name": "stdout",
     "output_type": "stream",
     "text": [
      "[array([0.75      , 0.75      , 0.77777778, 0.77777778, 0.80555556,\n",
      "       0.80555556, 0.83333333, 0.83333333, 0.83333333, 0.83333333,\n",
      "       0.83333333, 0.83333333, 0.80555556, 0.80555556, 0.77777778,\n",
      "       0.77777778, 0.77777778, 0.77777778, 0.77777778, 0.75      ,\n",
      "       0.75      , 0.75      , 0.75      , 0.75      , 0.75      ,\n",
      "       0.75      , 0.75      , 0.75      , 0.75      , 0.75      ,\n",
      "       0.75      , 0.75      , 0.75      , 0.75      , 0.75      ,\n",
      "       0.75      , 0.75      , 0.75      , 0.75      , 0.75      ,\n",
      "       0.72222222, 0.75      , 0.75      , 0.75      , 0.75      ,\n",
      "       0.75      , 0.72222222, 0.72222222, 0.72222222, 0.72222222,\n",
      "       0.72222222, 0.69444444, 0.69444444, 0.66666667, 0.63888889,\n",
      "       0.63888889, 0.63888889, 0.61111111, 0.58333333, 0.58333333])]\n",
      "[0.5833333333333339]\n",
      "\n",
      "[array([0.75      , 0.75      , 0.77777778, 0.77777778, 0.80555556,\n",
      "       0.80555556, 0.83333333, 0.83333333, 0.83333333, 0.83333333,\n",
      "       0.83333333, 0.83333333, 0.80555556, 0.80555556, 0.77777778,\n",
      "       0.77777778, 0.77777778, 0.77777778, 0.77777778, 0.75      ,\n",
      "       0.75      , 0.75      , 0.75      , 0.75      , 0.75      ,\n",
      "       0.75      , 0.75      , 0.75      , 0.75      , 0.75      ,\n",
      "       0.75      , 0.75      , 0.75      , 0.75      , 0.75      ,\n",
      "       0.75      , 0.75      , 0.75      , 0.75      , 0.75      ,\n",
      "       0.72222222, 0.75      , 0.75      , 0.75      , 0.75      ,\n",
      "       0.75      , 0.72222222, 0.72222222, 0.72222222, 0.72222222,\n",
      "       0.72222222, 0.69444444, 0.69444444, 0.66666667, 0.63888889,\n",
      "       0.63888889, 0.63888889, 0.61111111, 0.58333333, 0.58333333]), array([0.75      , 0.77777778, 0.77777778, 0.80555556, 0.80555556,\n",
      "       0.83333333, 0.83333333, 0.83333333, 0.83333333, 0.83333333,\n",
      "       0.83333333, 0.80555556, 0.80555556, 0.77777778, 0.77777778,\n",
      "       0.77777778, 0.77777778, 0.77777778, 0.75      , 0.75      ,\n",
      "       0.75      , 0.75      , 0.75      , 0.75      , 0.75      ,\n",
      "       0.75      , 0.75      , 0.75      , 0.75      , 0.75      ,\n",
      "       0.75      , 0.75      , 0.75      , 0.75      , 0.75      ,\n",
      "       0.75      , 0.75      , 0.75      , 0.75      , 0.72222222,\n",
      "       0.75      , 0.75      , 0.75      , 0.75      , 0.75      ,\n",
      "       0.72222222, 0.72222222, 0.72222222, 0.72222222, 0.72222222,\n",
      "       0.69444444, 0.69444444, 0.66666667, 0.63888889, 0.63888889,\n",
      "       0.63888889, 0.61111111, 0.58333333, 0.58333333, 0.58333333])]\n",
      "[0.5833333333333339, 0.5277777777777786]\n",
      "\n"
     ]
    }
   ],
   "source": [
    "#Create the training data set\n",
    "#Create the scaled training data set\n",
    "train_data = scaled_data[0:training_data_len , :]\n",
    "#Split the data into x_train and y_train data sets\n",
    "x_train = []\n",
    "y_train = []\n",
    "\n",
    "for i in range(60, len(train_data)):\n",
    "  x_train.append(train_data[i-60:i, 0])\n",
    "  y_train.append(train_data[i, 0])\n",
    "  if i<= 61:\n",
    "    print(x_train)\n",
    "    print(y_train)\n",
    "    print()"
   ]
  },
  {
   "cell_type": "code",
   "execution_count": 41,
   "metadata": {},
   "outputs": [],
   "source": [
    "#Convert the x_train and y_train to numpy arrays \n",
    "x_train, y_train = np.array(x_train), np.array(y_train)"
   ]
  },
  {
   "cell_type": "code",
   "execution_count": 42,
   "metadata": {},
   "outputs": [
    {
     "data": {
      "text/plain": [
       "(3029, 60, 1)"
      ]
     },
     "execution_count": 42,
     "metadata": {},
     "output_type": "execute_result"
    }
   ],
   "source": [
    "#Reshape the data\n",
    "x_train = np.reshape(x_train, (x_train.shape[0], x_train.shape[1], 1))\n",
    "x_train.shape"
   ]
  },
  {
   "cell_type": "markdown",
   "metadata": {},
   "source": [
    "## Load the model, complie and run it."
   ]
  },
  {
   "cell_type": "code",
   "execution_count": 43,
   "metadata": {},
   "outputs": [],
   "source": [
    "#Build the LSTM model\n",
    "model = Sequential()\n",
    "model.add(LSTM(50, return_sequences=True, input_shape= (x_train.shape[1], 1)))\n",
    "model.add(LSTM(50, return_sequences= False))\n",
    "model.add(Dense(25))\n",
    "model.add(Dense(1))"
   ]
  },
  {
   "cell_type": "code",
   "execution_count": 44,
   "metadata": {},
   "outputs": [],
   "source": [
    "#Compile the model\n",
    "model.compile(optimizer='adam', loss='mean_squared_error')"
   ]
  },
  {
   "cell_type": "code",
   "execution_count": 45,
   "metadata": {},
   "outputs": [
    {
     "name": "stdout",
     "output_type": "stream",
     "text": [
      "Epoch 1/1\n",
      "3029/3029 [==============================] - 204s 67ms/step - loss: 0.0052\n"
     ]
    },
    {
     "data": {
      "text/plain": [
       "<keras.callbacks.callbacks.History at 0x222b70d1f48>"
      ]
     },
     "execution_count": 45,
     "metadata": {},
     "output_type": "execute_result"
    }
   ],
   "source": [
    "#Train the model\n",
    "model.fit(x_train, y_train, batch_size=1, epochs=1)"
   ]
  },
  {
   "cell_type": "code",
   "execution_count": 46,
   "metadata": {},
   "outputs": [],
   "source": [
    "#Create the testing data set\n",
    "#Create a new array containing scaled values from index 1543 to 2002 \n",
    "test_data = scaled_data[training_data_len - 60: , :]\n",
    "#Create the data sets x_test and y_test\n",
    "x_test = []\n",
    "y_test = dataset[training_data_len:, :]\n",
    "for i in range(60, len(test_data)):\n",
    "  x_test.append(test_data[i-60:i, 0])"
   ]
  },
  {
   "cell_type": "code",
   "execution_count": 47,
   "metadata": {},
   "outputs": [],
   "source": [
    "#Convert the data to a numpy array\n",
    "x_test = np.array(x_test)"
   ]
  },
  {
   "cell_type": "code",
   "execution_count": 48,
   "metadata": {},
   "outputs": [],
   "source": [
    "#Reshape the data\n",
    "x_test = np.reshape(x_test, (x_test.shape[0], x_test.shape[1], 1 ))"
   ]
  },
  {
   "cell_type": "markdown",
   "metadata": {},
   "source": [
    "## Run the predictions to test the model"
   ]
  },
  {
   "cell_type": "code",
   "execution_count": 49,
   "metadata": {},
   "outputs": [],
   "source": [
    "#Get the models predicted price values \n",
    "predictions = model.predict(x_test)\n",
    "predictions = scaler.inverse_transform(predictions)"
   ]
  },
  {
   "cell_type": "code",
   "execution_count": 50,
   "metadata": {},
   "outputs": [
    {
     "data": {
      "text/plain": [
       "0.11393987919502364"
      ]
     },
     "execution_count": 50,
     "metadata": {},
     "output_type": "execute_result"
    }
   ],
   "source": [
    "#Get the root mean squared error (RMSE)\n",
    "rmse=np.sqrt(np.mean(((predictions- y_test)**2)))\n",
    "rmse"
   ]
  },
  {
   "cell_type": "markdown",
   "metadata": {},
   "source": [
    "## Plot the predicted data and test the validation"
   ]
  },
  {
   "cell_type": "code",
   "execution_count": 51,
   "metadata": {},
   "outputs": [
    {
     "name": "stderr",
     "output_type": "stream",
     "text": [
      "C:\\ProgramData\\Anaconda3\\lib\\site-packages\\ipykernel_launcher.py:4: SettingWithCopyWarning: \n",
      "A value is trying to be set on a copy of a slice from a DataFrame.\n",
      "Try using .loc[row_indexer,col_indexer] = value instead\n",
      "\n",
      "See the caveats in the documentation: https://pandas.pydata.org/pandas-docs/stable/user_guide/indexing.html#returning-a-view-versus-a-copy\n",
      "  after removing the cwd from sys.path.\n"
     ]
    },
    {
     "data": {
      "image/png": "[encoded data removed]",
      "text/plain": [
       "<Figure size 1152x576 with 1 Axes>"
      ]
     },
     "metadata": {},
     "output_type": "display_data"
    }
   ],
   "source": [
    "#Plot the data\n",
    "train = data[:training_data_len]\n",
    "valid = data[training_data_len:]\n",
    "valid['Predictions'] = predictions\n",
    "\n",
    "#Visualize the data\n",
    "plt.figure(figsize=(16,8))\n",
    "plt.title('Model')\n",
    "plt.xlabel('Time', fontsize=18)\n",
    "plt.ylabel('Temperature', fontsize=18)\n",
    "plt.plot(train['Temperature'])\n",
    "plt.plot(valid[['Temperature', 'Predictions']])\n",
    "plt.legend(['Train', 'Val', 'Predictions'], loc='lower right')\n",
    "plt.show()"
   ]
  },
  {
   "cell_type": "code",
   "execution_count": 52,
   "metadata": {},
   "outputs": [
    {
     "data": {
      "text/html": [
       "<div>\n",
       "<style scoped>\n",
       "    .dataframe tbody tr th:only-of-type {\n",
       "        vertical-align: middle;\n",
       "    }\n",
       "\n",
       "    .dataframe tbody tr th {\n",
       "        vertical-align: top;\n",
       "    }\n",
       "\n",
       "    .dataframe thead th {\n",
       "        text-align: right;\n",
       "    }\n",
       "</style>\n",
       "<table border=\"1\" class=\"dataframe\">\n",
       "  <thead>\n",
       "    <tr style=\"text-align: right;\">\n",
       "      <th></th>\n",
       "      <th>Temperature</th>\n",
       "      <th>Predictions</th>\n",
       "    </tr>\n",
       "    <tr>\n",
       "      <th>Time</th>\n",
       "      <th></th>\n",
       "      <th></th>\n",
       "    </tr>\n",
       "  </thead>\n",
       "  <tbody>\n",
       "    <tr>\n",
       "      <th>2020-02-28 04:17:00</th>\n",
       "      <td>22.0000</td>\n",
       "      <td>21.995577</td>\n",
       "    </tr>\n",
       "    <tr>\n",
       "      <th>2020-02-28 04:12:00</th>\n",
       "      <td>22.0625</td>\n",
       "      <td>21.955082</td>\n",
       "    </tr>\n",
       "    <tr>\n",
       "      <th>2020-02-28 04:02:00</th>\n",
       "      <td>22.0625</td>\n",
       "      <td>21.982443</td>\n",
       "    </tr>\n",
       "    <tr>\n",
       "      <th>2020-02-28 03:57:00</th>\n",
       "      <td>22.0000</td>\n",
       "      <td>21.995674</td>\n",
       "    </tr>\n",
       "    <tr>\n",
       "      <th>2020-02-28 03:47:00</th>\n",
       "      <td>22.0000</td>\n",
       "      <td>21.955751</td>\n",
       "    </tr>\n",
       "    <tr>\n",
       "      <th>...</th>\n",
       "      <td>...</td>\n",
       "      <td>...</td>\n",
       "    </tr>\n",
       "    <tr>\n",
       "      <th>2020-02-17 22:36:00</th>\n",
       "      <td>22.2500</td>\n",
       "      <td>22.263664</td>\n",
       "    </tr>\n",
       "    <tr>\n",
       "      <th>2020-02-17 22:21:00</th>\n",
       "      <td>22.4375</td>\n",
       "      <td>22.191349</td>\n",
       "    </tr>\n",
       "    <tr>\n",
       "      <th>2020-02-17 22:01:00</th>\n",
       "      <td>22.3750</td>\n",
       "      <td>22.317930</td>\n",
       "    </tr>\n",
       "    <tr>\n",
       "      <th>2020-02-17 21:16:00</th>\n",
       "      <td>22.4375</td>\n",
       "      <td>22.318274</td>\n",
       "    </tr>\n",
       "    <tr>\n",
       "      <th>2020-02-17 21:06:00</th>\n",
       "      <td>22.5625</td>\n",
       "      <td>22.355204</td>\n",
       "    </tr>\n",
       "  </tbody>\n",
       "</table>\n",
       "<p>772 rows × 2 columns</p>\n",
       "</div>"
      ],
      "text/plain": [
       "                     Temperature  Predictions\n",
       "Time                                         \n",
       "2020-02-28 04:17:00      22.0000    21.995577\n",
       "2020-02-28 04:12:00      22.0625    21.955082\n",
       "2020-02-28 04:02:00      22.0625    21.982443\n",
       "2020-02-28 03:57:00      22.0000    21.995674\n",
       "2020-02-28 03:47:00      22.0000    21.955751\n",
       "...                          ...          ...\n",
       "2020-02-17 22:36:00      22.2500    22.263664\n",
       "2020-02-17 22:21:00      22.4375    22.191349\n",
       "2020-02-17 22:01:00      22.3750    22.317930\n",
       "2020-02-17 21:16:00      22.4375    22.318274\n",
       "2020-02-17 21:06:00      22.5625    22.355204\n",
       "\n",
       "[772 rows x 2 columns]"
      ]
     },
     "execution_count": 52,
     "metadata": {},
     "output_type": "execute_result"
    }
   ],
   "source": [
    "valid "
   ]
  },
  {
   "cell_type": "code",
   "execution_count": 53,
   "metadata": {},
   "outputs": [
    {
     "name": "stdout",
     "output_type": "stream",
     "text": [
      "Model: \"sequential_1\"\n",
      "_________________________________________________________________\n",
      "Layer (type)                 Output Shape              Param #   \n",
      "=================================================================\n",
      "lstm_1 (LSTM)                (None, 60, 50)            10400     \n",
      "_________________________________________________________________\n",
      "lstm_2 (LSTM)                (None, 50)                20200     \n",
      "_________________________________________________________________\n",
      "dense_1 (Dense)              (None, 25)                1275      \n",
      "_________________________________________________________________\n",
      "dense_2 (Dense)              (None, 1)                 26        \n",
      "=================================================================\n",
      "Total params: 31,901\n",
      "Trainable params: 31,901\n",
      "Non-trainable params: 0\n",
      "_________________________________________________________________\n"
     ]
    }
   ],
   "source": [
    "model.summary()"
   ]
  },
  {
   "cell_type": "markdown",
   "metadata": {},
   "source": [
    "## Convert the model from .h5 format to a .tflite model"
   ]
  },
  {
   "cell_type": "code",
   "execution_count": 55,
   "metadata": {},
   "outputs": [],
   "source": [
    "import numpy as np\n",
    "import tensorflow.compat.v2 as tf\n",
    "tf.enable_v2_behavior()"
   ]
  },
  {
   "cell_type": "code",
   "execution_count": 56,
   "metadata": {
    "scrolled": false
   },
   "outputs": [
    {
     "ename": "TypeError",
     "evalue": "call() got an unexpected keyword argument 'training'",
     "output_type": "error",
     "traceback": [
      "\u001b[1;31m---------------------------------------------------------------------------\u001b[0m",
      "\u001b[1;31mTypeError\u001b[0m                                 Traceback (most recent call last)",
      "\u001b[1;32m<ipython-input-56-38572624c029>\u001b[0m in \u001b[0;36m<module>\u001b[1;34m\u001b[0m\n\u001b[0;32m      1\u001b[0m \u001b[1;31m# Convert the model to the TensorFlow Lite format without quantization\u001b[0m\u001b[1;33m\u001b[0m\u001b[1;33m\u001b[0m\u001b[1;33m\u001b[0m\u001b[0m\n\u001b[1;32m----> 2\u001b[1;33m \u001b[0mconverter\u001b[0m \u001b[1;33m=\u001b[0m \u001b[0mtf\u001b[0m\u001b[1;33m.\u001b[0m\u001b[0mlite\u001b[0m\u001b[1;33m.\u001b[0m\u001b[0mTFLiteConverter\u001b[0m\u001b[1;33m.\u001b[0m\u001b[0mfrom_keras_model\u001b[0m\u001b[1;33m(\u001b[0m\u001b[0mmodel\u001b[0m\u001b[1;33m)\u001b[0m\u001b[1;33m\u001b[0m\u001b[1;33m\u001b[0m\u001b[0m\n\u001b[0m\u001b[0;32m      3\u001b[0m \u001b[0mtflite_model\u001b[0m \u001b[1;33m=\u001b[0m \u001b[0mconverter\u001b[0m\u001b[1;33m.\u001b[0m\u001b[0mconvert\u001b[0m\u001b[1;33m(\u001b[0m\u001b[1;33m)\u001b[0m\u001b[1;33m\u001b[0m\u001b[1;33m\u001b[0m\u001b[0m\n\u001b[0;32m      4\u001b[0m \u001b[1;33m\u001b[0m\u001b[0m\n\u001b[0;32m      5\u001b[0m \u001b[1;31m# Save the model to disk\u001b[0m\u001b[1;33m\u001b[0m\u001b[1;33m\u001b[0m\u001b[1;33m\u001b[0m\u001b[0m\n",
      "\u001b[1;32m~\\AppData\\Roaming\\Python\\Python37\\site-packages\\tensorflow_core\\lite\\python\\lite.py\u001b[0m in \u001b[0;36mfrom_keras_model\u001b[1;34m(cls, model)\u001b[0m\n\u001b[0;32m    399\u001b[0m \u001b[1;33m\u001b[0m\u001b[0m\n\u001b[0;32m    400\u001b[0m     \u001b[0mfunc\u001b[0m \u001b[1;33m=\u001b[0m \u001b[0m_saving_utils\u001b[0m\u001b[1;33m.\u001b[0m\u001b[0mtrace_model_call\u001b[0m\u001b[1;33m(\u001b[0m\u001b[0mmodel\u001b[0m\u001b[1;33m,\u001b[0m \u001b[0minput_signature\u001b[0m\u001b[1;33m)\u001b[0m\u001b[1;33m\u001b[0m\u001b[1;33m\u001b[0m\u001b[0m\n\u001b[1;32m--> 401\u001b[1;33m     \u001b[0mconcrete_func\u001b[0m \u001b[1;33m=\u001b[0m \u001b[0mfunc\u001b[0m\u001b[1;33m.\u001b[0m\u001b[0mget_concrete_function\u001b[0m\u001b[1;33m(\u001b[0m\u001b[1;33m)\u001b[0m\u001b[1;33m\u001b[0m\u001b[1;33m\u001b[0m\u001b[0m\n\u001b[0m\u001b[0;32m    402\u001b[0m     \u001b[1;32mreturn\u001b[0m \u001b[0mcls\u001b[0m\u001b[1;33m(\u001b[0m\u001b[1;33m[\u001b[0m\u001b[0mconcrete_func\u001b[0m\u001b[1;33m]\u001b[0m\u001b[1;33m)\u001b[0m\u001b[1;33m\u001b[0m\u001b[1;33m\u001b[0m\u001b[0m\n\u001b[0;32m    403\u001b[0m \u001b[1;33m\u001b[0m\u001b[0m\n",
      "\u001b[1;32m~\\AppData\\Roaming\\Python\\Python37\\site-packages\\tensorflow_core\\python\\eager\\def_function.py\u001b[0m in \u001b[0;36mget_concrete_function\u001b[1;34m(self, *args, **kwargs)\u001b[0m\n\u001b[0;32m    907\u001b[0m       \u001b[1;32mif\u001b[0m \u001b[0mself\u001b[0m\u001b[1;33m.\u001b[0m\u001b[0m_stateful_fn\u001b[0m \u001b[1;32mis\u001b[0m \u001b[1;32mNone\u001b[0m\u001b[1;33m:\u001b[0m\u001b[1;33m\u001b[0m\u001b[1;33m\u001b[0m\u001b[0m\n\u001b[0;32m    908\u001b[0m         \u001b[0minitializers\u001b[0m \u001b[1;33m=\u001b[0m \u001b[1;33m[\u001b[0m\u001b[1;33m]\u001b[0m\u001b[1;33m\u001b[0m\u001b[1;33m\u001b[0m\u001b[0m\n\u001b[1;32m--> 909\u001b[1;33m         \u001b[0mself\u001b[0m\u001b[1;33m.\u001b[0m\u001b[0m_initialize\u001b[0m\u001b[1;33m(\u001b[0m\u001b[0margs\u001b[0m\u001b[1;33m,\u001b[0m \u001b[0mkwargs\u001b[0m\u001b[1;33m,\u001b[0m \u001b[0madd_initializers_to\u001b[0m\u001b[1;33m=\u001b[0m\u001b[0minitializers\u001b[0m\u001b[1;33m)\u001b[0m\u001b[1;33m\u001b[0m\u001b[1;33m\u001b[0m\u001b[0m\n\u001b[0m\u001b[0;32m    910\u001b[0m         \u001b[0mself\u001b[0m\u001b[1;33m.\u001b[0m\u001b[0m_initialize_uninitialized_variables\u001b[0m\u001b[1;33m(\u001b[0m\u001b[0minitializers\u001b[0m\u001b[1;33m)\u001b[0m\u001b[1;33m\u001b[0m\u001b[1;33m\u001b[0m\u001b[0m\n\u001b[0;32m    911\u001b[0m \u001b[1;33m\u001b[0m\u001b[0m\n",
      "\u001b[1;32m~\\AppData\\Roaming\\Python\\Python37\\site-packages\\tensorflow_core\\python\\eager\\def_function.py\u001b[0m in \u001b[0;36m_initialize\u001b[1;34m(self, args, kwds, add_initializers_to)\u001b[0m\n\u001b[0;32m    495\u001b[0m     self._concrete_stateful_fn = (\n\u001b[0;32m    496\u001b[0m         self._stateful_fn._get_concrete_function_internal_garbage_collected(  # pylint: disable=protected-access\n\u001b[1;32m--> 497\u001b[1;33m             *args, **kwds))\n\u001b[0m\u001b[0;32m    498\u001b[0m \u001b[1;33m\u001b[0m\u001b[0m\n\u001b[0;32m    499\u001b[0m     \u001b[1;32mdef\u001b[0m \u001b[0minvalid_creator_scope\u001b[0m\u001b[1;33m(\u001b[0m\u001b[1;33m*\u001b[0m\u001b[0munused_args\u001b[0m\u001b[1;33m,\u001b[0m \u001b[1;33m**\u001b[0m\u001b[0munused_kwds\u001b[0m\u001b[1;33m)\u001b[0m\u001b[1;33m:\u001b[0m\u001b[1;33m\u001b[0m\u001b[1;33m\u001b[0m\u001b[0m\n",
      "\u001b[1;32m~\\AppData\\Roaming\\Python\\Python37\\site-packages\\tensorflow_core\\python\\eager\\function.py\u001b[0m in \u001b[0;36m_get_concrete_function_internal_garbage_collected\u001b[1;34m(self, *args, **kwargs)\u001b[0m\n\u001b[0;32m   2387\u001b[0m       \u001b[0margs\u001b[0m\u001b[1;33m,\u001b[0m \u001b[0mkwargs\u001b[0m \u001b[1;33m=\u001b[0m \u001b[1;32mNone\u001b[0m\u001b[1;33m,\u001b[0m \u001b[1;32mNone\u001b[0m\u001b[1;33m\u001b[0m\u001b[1;33m\u001b[0m\u001b[0m\n\u001b[0;32m   2388\u001b[0m     \u001b[1;32mwith\u001b[0m \u001b[0mself\u001b[0m\u001b[1;33m.\u001b[0m\u001b[0m_lock\u001b[0m\u001b[1;33m:\u001b[0m\u001b[1;33m\u001b[0m\u001b[1;33m\u001b[0m\u001b[0m\n\u001b[1;32m-> 2389\u001b[1;33m       \u001b[0mgraph_function\u001b[0m\u001b[1;33m,\u001b[0m \u001b[0m_\u001b[0m\u001b[1;33m,\u001b[0m \u001b[0m_\u001b[0m \u001b[1;33m=\u001b[0m \u001b[0mself\u001b[0m\u001b[1;33m.\u001b[0m\u001b[0m_maybe_define_function\u001b[0m\u001b[1;33m(\u001b[0m\u001b[0margs\u001b[0m\u001b[1;33m,\u001b[0m \u001b[0mkwargs\u001b[0m\u001b[1;33m)\u001b[0m\u001b[1;33m\u001b[0m\u001b[1;33m\u001b[0m\u001b[0m\n\u001b[0m\u001b[0;32m   2390\u001b[0m     \u001b[1;32mreturn\u001b[0m \u001b[0mgraph_function\u001b[0m\u001b[1;33m\u001b[0m\u001b[1;33m\u001b[0m\u001b[0m\n\u001b[0;32m   2391\u001b[0m \u001b[1;33m\u001b[0m\u001b[0m\n",
      "\u001b[1;32m~\\AppData\\Roaming\\Python\\Python37\\site-packages\\tensorflow_core\\python\\eager\\function.py\u001b[0m in \u001b[0;36m_maybe_define_function\u001b[1;34m(self, args, kwargs)\u001b[0m\n\u001b[0;32m   2701\u001b[0m \u001b[1;33m\u001b[0m\u001b[0m\n\u001b[0;32m   2702\u001b[0m       \u001b[0mself\u001b[0m\u001b[1;33m.\u001b[0m\u001b[0m_function_cache\u001b[0m\u001b[1;33m.\u001b[0m\u001b[0mmissed\u001b[0m\u001b[1;33m.\u001b[0m\u001b[0madd\u001b[0m\u001b[1;33m(\u001b[0m\u001b[0mcall_context_key\u001b[0m\u001b[1;33m)\u001b[0m\u001b[1;33m\u001b[0m\u001b[1;33m\u001b[0m\u001b[0m\n\u001b[1;32m-> 2703\u001b[1;33m       \u001b[0mgraph_function\u001b[0m \u001b[1;33m=\u001b[0m \u001b[0mself\u001b[0m\u001b[1;33m.\u001b[0m\u001b[0m_create_graph_function\u001b[0m\u001b[1;33m(\u001b[0m\u001b[0margs\u001b[0m\u001b[1;33m,\u001b[0m \u001b[0mkwargs\u001b[0m\u001b[1;33m)\u001b[0m\u001b[1;33m\u001b[0m\u001b[1;33m\u001b[0m\u001b[0m\n\u001b[0m\u001b[0;32m   2704\u001b[0m       \u001b[0mself\u001b[0m\u001b[1;33m.\u001b[0m\u001b[0m_function_cache\u001b[0m\u001b[1;33m.\u001b[0m\u001b[0mprimary\u001b[0m\u001b[1;33m[\u001b[0m\u001b[0mcache_key\u001b[0m\u001b[1;33m]\u001b[0m \u001b[1;33m=\u001b[0m \u001b[0mgraph_function\u001b[0m\u001b[1;33m\u001b[0m\u001b[1;33m\u001b[0m\u001b[0m\n\u001b[0;32m   2705\u001b[0m       \u001b[1;32mreturn\u001b[0m \u001b[0mgraph_function\u001b[0m\u001b[1;33m,\u001b[0m \u001b[0margs\u001b[0m\u001b[1;33m,\u001b[0m \u001b[0mkwargs\u001b[0m\u001b[1;33m\u001b[0m\u001b[1;33m\u001b[0m\u001b[0m\n",
      "\u001b[1;32m~\\AppData\\Roaming\\Python\\Python37\\site-packages\\tensorflow_core\\python\\eager\\function.py\u001b[0m in \u001b[0;36m_create_graph_function\u001b[1;34m(self, args, kwargs, override_flat_arg_shapes)\u001b[0m\n\u001b[0;32m   2591\u001b[0m             \u001b[0marg_names\u001b[0m\u001b[1;33m=\u001b[0m\u001b[0marg_names\u001b[0m\u001b[1;33m,\u001b[0m\u001b[1;33m\u001b[0m\u001b[1;33m\u001b[0m\u001b[0m\n\u001b[0;32m   2592\u001b[0m             \u001b[0moverride_flat_arg_shapes\u001b[0m\u001b[1;33m=\u001b[0m\u001b[0moverride_flat_arg_shapes\u001b[0m\u001b[1;33m,\u001b[0m\u001b[1;33m\u001b[0m\u001b[1;33m\u001b[0m\u001b[0m\n\u001b[1;32m-> 2593\u001b[1;33m             capture_by_value=self._capture_by_value),\n\u001b[0m\u001b[0;32m   2594\u001b[0m         \u001b[0mself\u001b[0m\u001b[1;33m.\u001b[0m\u001b[0m_function_attributes\u001b[0m\u001b[1;33m,\u001b[0m\u001b[1;33m\u001b[0m\u001b[1;33m\u001b[0m\u001b[0m\n\u001b[0;32m   2595\u001b[0m         \u001b[1;31m# Tell the ConcreteFunction to clean up its graph once it goes out of\u001b[0m\u001b[1;33m\u001b[0m\u001b[1;33m\u001b[0m\u001b[1;33m\u001b[0m\u001b[0m\n",
      "\u001b[1;32m~\\AppData\\Roaming\\Python\\Python37\\site-packages\\tensorflow_core\\python\\framework\\func_graph.py\u001b[0m in \u001b[0;36mfunc_graph_from_py_func\u001b[1;34m(name, python_func, args, kwargs, signature, func_graph, autograph, autograph_options, add_control_dependencies, arg_names, op_return_value, collections, capture_by_value, override_flat_arg_shapes)\u001b[0m\n\u001b[0;32m    976\u001b[0m                                           converted_func)\n\u001b[0;32m    977\u001b[0m \u001b[1;33m\u001b[0m\u001b[0m\n\u001b[1;32m--> 978\u001b[1;33m       \u001b[0mfunc_outputs\u001b[0m \u001b[1;33m=\u001b[0m \u001b[0mpython_func\u001b[0m\u001b[1;33m(\u001b[0m\u001b[1;33m*\u001b[0m\u001b[0mfunc_args\u001b[0m\u001b[1;33m,\u001b[0m \u001b[1;33m**\u001b[0m\u001b[0mfunc_kwargs\u001b[0m\u001b[1;33m)\u001b[0m\u001b[1;33m\u001b[0m\u001b[1;33m\u001b[0m\u001b[0m\n\u001b[0m\u001b[0;32m    979\u001b[0m \u001b[1;33m\u001b[0m\u001b[0m\n\u001b[0;32m    980\u001b[0m       \u001b[1;31m# invariant: `func_outputs` contains only Tensors, CompositeTensors,\u001b[0m\u001b[1;33m\u001b[0m\u001b[1;33m\u001b[0m\u001b[1;33m\u001b[0m\u001b[0m\n",
      "\u001b[1;32m~\\AppData\\Roaming\\Python\\Python37\\site-packages\\tensorflow_core\\python\\eager\\def_function.py\u001b[0m in \u001b[0;36mwrapped_fn\u001b[1;34m(*args, **kwds)\u001b[0m\n\u001b[0;32m    437\u001b[0m         \u001b[1;31m# __wrapped__ allows AutoGraph to swap in a converted function. We give\u001b[0m\u001b[1;33m\u001b[0m\u001b[1;33m\u001b[0m\u001b[1;33m\u001b[0m\u001b[0m\n\u001b[0;32m    438\u001b[0m         \u001b[1;31m# the function a weak reference to itself to avoid a reference cycle.\u001b[0m\u001b[1;33m\u001b[0m\u001b[1;33m\u001b[0m\u001b[1;33m\u001b[0m\u001b[0m\n\u001b[1;32m--> 439\u001b[1;33m         \u001b[1;32mreturn\u001b[0m \u001b[0mweak_wrapped_fn\u001b[0m\u001b[1;33m(\u001b[0m\u001b[1;33m)\u001b[0m\u001b[1;33m.\u001b[0m\u001b[0m__wrapped__\u001b[0m\u001b[1;33m(\u001b[0m\u001b[1;33m*\u001b[0m\u001b[0margs\u001b[0m\u001b[1;33m,\u001b[0m \u001b[1;33m**\u001b[0m\u001b[0mkwds\u001b[0m\u001b[1;33m)\u001b[0m\u001b[1;33m\u001b[0m\u001b[1;33m\u001b[0m\u001b[0m\n\u001b[0m\u001b[0;32m    440\u001b[0m     \u001b[0mweak_wrapped_fn\u001b[0m \u001b[1;33m=\u001b[0m \u001b[0mweakref\u001b[0m\u001b[1;33m.\u001b[0m\u001b[0mref\u001b[0m\u001b[1;33m(\u001b[0m\u001b[0mwrapped_fn\u001b[0m\u001b[1;33m)\u001b[0m\u001b[1;33m\u001b[0m\u001b[1;33m\u001b[0m\u001b[0m\n\u001b[0;32m    441\u001b[0m \u001b[1;33m\u001b[0m\u001b[0m\n",
      "\u001b[1;32m~\\AppData\\Roaming\\Python\\Python37\\site-packages\\tensorflow_core\\python\\keras\\saving\\saving_utils.py\u001b[0m in \u001b[0;36m_wrapped_model\u001b[1;34m(*args)\u001b[0m\n\u001b[0;32m    148\u001b[0m     with base_layer_utils.call_context().enter(\n\u001b[0;32m    149\u001b[0m         model, inputs=inputs, build_graph=False, training=False, saving=True):\n\u001b[1;32m--> 150\u001b[1;33m       \u001b[0moutputs_list\u001b[0m \u001b[1;33m=\u001b[0m \u001b[0mnest\u001b[0m\u001b[1;33m.\u001b[0m\u001b[0mflatten\u001b[0m\u001b[1;33m(\u001b[0m\u001b[0mmodel\u001b[0m\u001b[1;33m(\u001b[0m\u001b[0minputs\u001b[0m\u001b[1;33m=\u001b[0m\u001b[0minputs\u001b[0m\u001b[1;33m,\u001b[0m \u001b[0mtraining\u001b[0m\u001b[1;33m=\u001b[0m\u001b[1;32mFalse\u001b[0m\u001b[1;33m)\u001b[0m\u001b[1;33m)\u001b[0m\u001b[1;33m\u001b[0m\u001b[1;33m\u001b[0m\u001b[0m\n\u001b[0m\u001b[0;32m    151\u001b[0m \u001b[1;33m\u001b[0m\u001b[0m\n\u001b[0;32m    152\u001b[0m     \u001b[1;32mtry\u001b[0m\u001b[1;33m:\u001b[0m\u001b[1;33m\u001b[0m\u001b[1;33m\u001b[0m\u001b[0m\n",
      "\u001b[1;32mC:\\ProgramData\\Anaconda3\\lib\\site-packages\\keras\\backend\\tensorflow_backend.py\u001b[0m in \u001b[0;36msymbolic_fn_wrapper\u001b[1;34m(*args, **kwargs)\u001b[0m\n\u001b[0;32m     73\u001b[0m         \u001b[1;32mif\u001b[0m \u001b[0m_SYMBOLIC_SCOPE\u001b[0m\u001b[1;33m.\u001b[0m\u001b[0mvalue\u001b[0m\u001b[1;33m:\u001b[0m\u001b[1;33m\u001b[0m\u001b[1;33m\u001b[0m\u001b[0m\n\u001b[0;32m     74\u001b[0m             \u001b[1;32mwith\u001b[0m \u001b[0mget_graph\u001b[0m\u001b[1;33m(\u001b[0m\u001b[1;33m)\u001b[0m\u001b[1;33m.\u001b[0m\u001b[0mas_default\u001b[0m\u001b[1;33m(\u001b[0m\u001b[1;33m)\u001b[0m\u001b[1;33m:\u001b[0m\u001b[1;33m\u001b[0m\u001b[1;33m\u001b[0m\u001b[0m\n\u001b[1;32m---> 75\u001b[1;33m                 \u001b[1;32mreturn\u001b[0m \u001b[0mfunc\u001b[0m\u001b[1;33m(\u001b[0m\u001b[1;33m*\u001b[0m\u001b[0margs\u001b[0m\u001b[1;33m,\u001b[0m \u001b[1;33m**\u001b[0m\u001b[0mkwargs\u001b[0m\u001b[1;33m)\u001b[0m\u001b[1;33m\u001b[0m\u001b[1;33m\u001b[0m\u001b[0m\n\u001b[0m\u001b[0;32m     76\u001b[0m         \u001b[1;32melse\u001b[0m\u001b[1;33m:\u001b[0m\u001b[1;33m\u001b[0m\u001b[1;33m\u001b[0m\u001b[0m\n\u001b[0;32m     77\u001b[0m             \u001b[1;32mreturn\u001b[0m \u001b[0mfunc\u001b[0m\u001b[1;33m(\u001b[0m\u001b[1;33m*\u001b[0m\u001b[0margs\u001b[0m\u001b[1;33m,\u001b[0m \u001b[1;33m**\u001b[0m\u001b[0mkwargs\u001b[0m\u001b[1;33m)\u001b[0m\u001b[1;33m\u001b[0m\u001b[1;33m\u001b[0m\u001b[0m\n",
      "\u001b[1;32mC:\\ProgramData\\Anaconda3\\lib\\site-packages\\keras\\engine\\base_layer.py\u001b[0m in \u001b[0;36m__call__\u001b[1;34m(self, inputs, **kwargs)\u001b[0m\n\u001b[0;32m    487\u001b[0m             \u001b[1;31m# Actually call the layer,\u001b[0m\u001b[1;33m\u001b[0m\u001b[1;33m\u001b[0m\u001b[1;33m\u001b[0m\u001b[0m\n\u001b[0;32m    488\u001b[0m             \u001b[1;31m# collecting output(s), mask(s), and shape(s).\u001b[0m\u001b[1;33m\u001b[0m\u001b[1;33m\u001b[0m\u001b[1;33m\u001b[0m\u001b[0m\n\u001b[1;32m--> 489\u001b[1;33m             \u001b[0moutput\u001b[0m \u001b[1;33m=\u001b[0m \u001b[0mself\u001b[0m\u001b[1;33m.\u001b[0m\u001b[0mcall\u001b[0m\u001b[1;33m(\u001b[0m\u001b[0minputs\u001b[0m\u001b[1;33m,\u001b[0m \u001b[1;33m**\u001b[0m\u001b[0mkwargs\u001b[0m\u001b[1;33m)\u001b[0m\u001b[1;33m\u001b[0m\u001b[1;33m\u001b[0m\u001b[0m\n\u001b[0m\u001b[0;32m    490\u001b[0m             \u001b[0moutput_mask\u001b[0m \u001b[1;33m=\u001b[0m \u001b[0mself\u001b[0m\u001b[1;33m.\u001b[0m\u001b[0mcompute_mask\u001b[0m\u001b[1;33m(\u001b[0m\u001b[0minputs\u001b[0m\u001b[1;33m,\u001b[0m \u001b[0mprevious_mask\u001b[0m\u001b[1;33m)\u001b[0m\u001b[1;33m\u001b[0m\u001b[1;33m\u001b[0m\u001b[0m\n\u001b[0;32m    491\u001b[0m \u001b[1;33m\u001b[0m\u001b[0m\n",
      "\u001b[1;31mTypeError\u001b[0m: call() got an unexpected keyword argument 'training'"
     ]
    }
   ],
   "source": [
    "# Convert the model to the TensorFlow Lite format without quantization\n",
    "converter = tf.lite.TFLiteConverter.from_keras_model(model)\n",
    "tflite_model = converter.convert()\n",
    "\n",
    "# Save the model to disk\n",
    "open(\"temp_model.tflite\", \"wb\").write(tflite_model)\n",
    "  \n",
    "import os\n",
    "basic_model_size = os.path.getsize(\"temp_model.tflite\")\n",
    "print(\"Model is %d bytes\" % basic_model_size)"
   ]
  },
  {
   "cell_type": "code",
   "execution_count": 57,
   "metadata": {},
   "outputs": [],
   "source": [
    "model.save('temp_pred.h5')"
   ]
  },
  {
   "cell_type": "code",
   "execution_count": 58,
   "metadata": {},
   "outputs": [],
   "source": [
    "from keras.models import load_model"
   ]
  },
  {
   "cell_type": "code",
   "execution_count": 59,
   "metadata": {},
   "outputs": [],
   "source": [
    "new_model = load_model('temp_pred.h5')"
   ]
  },
  {
   "cell_type": "code",
   "execution_count": 60,
   "metadata": {},
   "outputs": [
    {
     "name": "stdout",
     "output_type": "stream",
     "text": [
      "Model: \"sequential_1\"\n",
      "_________________________________________________________________\n",
      "Layer (type)                 Output Shape              Param #   \n",
      "=================================================================\n",
      "lstm_1 (LSTM)                (None, 60, 50)            10400     \n",
      "_________________________________________________________________\n",
      "lstm_2 (LSTM)                (None, 50)                20200     \n",
      "_________________________________________________________________\n",
      "dense_1 (Dense)              (None, 25)                1275      \n",
      "_________________________________________________________________\n",
      "dense_2 (Dense)              (None, 1)                 26        \n",
      "=================================================================\n",
      "Total params: 31,901\n",
      "Trainable params: 31,901\n",
      "Non-trainable params: 0\n",
      "_________________________________________________________________\n"
     ]
    }
   ],
   "source": [
    "new_model.summary()"
   ]
  },
  {
   "cell_type": "code",
   "execution_count": 61,
   "metadata": {
    "scrolled": true
   },
   "outputs": [
    {
     "data": {
      "text/plain": [
       "[array([[ 0.17960396,  0.24245562,  0.02859803,  0.07947631, -0.13996063,\n",
       "          0.08334837,  0.0861617 ,  0.12171412,  0.12191004,  0.21391305,\n",
       "          0.00505891,  0.01716155, -0.12772658,  0.30804923,  0.01985425,\n",
       "         -0.04098348,  0.2058047 , -0.04905259, -0.00820477, -0.14812143,\n",
       "         -0.12031093, -0.10108267, -0.08869906,  0.06543139,  0.10805088,\n",
       "          0.01443182,  0.09110314,  0.08092936,  0.10313232,  0.12612912,\n",
       "         -0.0789285 ,  0.15349479,  0.22488748,  0.05798439,  0.11017999,\n",
       "          0.28639928,  0.12601012,  0.11477637,  0.00839205,  0.12256714,\n",
       "          0.16848052,  0.16309448,  0.07156315, -0.0264748 ,  0.09490772,\n",
       "         -0.09333867,  0.09944966,  0.11595188,  0.1628993 ,  0.152134  ,\n",
       "          0.05225489,  0.11764526,  0.11733533,  0.07284453, -0.0846601 ,\n",
       "          0.02937832,  0.11620616,  0.12841296,  0.04894099, -0.11434389,\n",
       "          0.13960409,  0.11234027, -0.15636604, -0.09974705, -0.17979851,\n",
       "          0.00137049, -0.16812833, -0.09216129,  0.21331203, -0.1218091 ,\n",
       "         -0.04085438, -0.19447191, -0.04456248,  0.06299036,  0.10723882,\n",
       "          0.03804578, -0.10091879, -0.11277119, -0.1585989 ,  0.05841587,\n",
       "          0.15736383,  0.19550025, -0.1337179 ,  0.14643651,  0.05517102,\n",
       "         -0.15532485, -0.06243142,  0.00849357, -0.10734835, -0.10024636,\n",
       "          0.01743571,  0.19057108, -0.13158113, -0.00933646,  0.07014176,\n",
       "         -0.12891635,  0.02230888, -0.02064444,  0.15024142, -0.1614692 ,\n",
       "         -0.19647066, -0.14276989, -0.15646553, -0.08635179, -0.03049129,\n",
       "          0.19435954, -0.18796612,  0.14806817, -0.1502856 , -0.12455293,\n",
       "         -0.11502945, -0.12990496, -0.16980225,  0.16882002,  0.14678887,\n",
       "         -0.06499801, -0.11966723, -0.17809197, -0.18393274, -0.1413429 ,\n",
       "          0.08582512,  0.06394611, -0.18309826, -0.00436017, -0.0687862 ,\n",
       "          0.12606244,  0.1663548 , -0.13637891,  0.11751294, -0.02140695,\n",
       "         -0.12581374, -0.16670914, -0.16001359, -0.16756086,  0.03104146,\n",
       "          0.17030825,  0.08325899,  0.01153901, -0.21008505, -0.01707265,\n",
       "         -0.19523205,  0.10861014, -0.17114457, -0.12934859, -0.07717425,\n",
       "         -0.01678123, -0.19978198, -0.0919074 ,  0.13330778, -0.17410211,\n",
       "          0.13980393,  0.291751  ,  0.04324236, -0.15399776, -0.08396906,\n",
       "          0.17180139,  0.15512569,  0.07879817,  0.10764375,  0.01021694,\n",
       "          0.10144117, -0.11588109,  0.02400486,  0.4739944 , -0.03286979,\n",
       "         -0.1705248 ,  0.0817533 ,  0.13520534,  0.06694971, -0.18062027,\n",
       "          0.07911169, -0.16841649,  0.08482669, -0.1826669 ,  0.17326488,\n",
       "          0.13008739,  0.27741656,  0.11905393,  0.06584334, -0.0734145 ,\n",
       "         -0.0423183 ,  0.39320874,  0.31024364,  0.21853484, -0.04886741,\n",
       "          0.11835214,  0.13230759, -0.01862647,  0.0831569 ,  0.13878289,\n",
       "          0.108464  ,  0.21203446,  0.02942434,  0.2320922 , -0.14110734,\n",
       "         -0.057168  ,  0.2805994 , -0.0106251 ,  0.25240487, -0.11857063]],\n",
       "       dtype=float32),\n",
       " array([[ 0.1100092 , -0.05395645,  0.00807418, ..., -0.00586263,\n",
       "          0.04150243, -0.05836302],\n",
       "        [-0.02668875, -0.10757861,  0.0247653 , ..., -0.07571372,\n",
       "         -0.04065314, -0.13638294],\n",
       "        [-0.05352799,  0.03318731,  0.15896608, ...,  0.00583166,\n",
       "         -0.05790525,  0.04711897],\n",
       "        ...,\n",
       "        [-0.06609572, -0.07462068,  0.02547472, ..., -0.03134001,\n",
       "          0.14293621,  0.09995689],\n",
       "        [ 0.001575  , -0.0441062 ,  0.02389994, ...,  0.12028361,\n",
       "          0.04658174,  0.10726326],\n",
       "        [ 0.0151157 , -0.00979837, -0.00273926, ..., -0.02949246,\n",
       "         -0.08905513,  0.05525517]], dtype=float32),\n",
       " array([ 3.97182927e-02,  1.40646368e-01,  1.28524816e-02, -2.02977359e-02,\n",
       "        -1.18185617e-02,  3.58075052e-02,  1.08796237e-02,  6.08466268e-02,\n",
       "         9.60434973e-03,  1.58356458e-01, -3.21256649e-03,  5.81169315e-03,\n",
       "         7.52918199e-02,  3.22124392e-01,  1.07608080e-01, -5.84891662e-02,\n",
       "         6.69922158e-02,  6.74239476e-04,  6.73195198e-02,  2.10930146e-02,\n",
       "         1.42470980e-03, -2.81816423e-02,  7.43360445e-03, -7.45716915e-02,\n",
       "         2.66709328e-02,  2.69752666e-02,  1.73892111e-01,  1.90115795e-01,\n",
       "         8.75534713e-02, -3.37476805e-02,  5.63161401e-03,  1.20255321e-01,\n",
       "         1.10718116e-01, -6.77003944e-03, -3.73978876e-02,  2.26373151e-01,\n",
       "        -1.62003916e-02, -4.42046821e-02,  2.53528059e-01, -3.71864438e-02,\n",
       "         2.08856836e-02,  1.44999577e-02,  1.58381864e-01,  3.03235389e-02,\n",
       "        -4.88499179e-03, -2.98774205e-02,  2.33561739e-01,  2.39400589e-03,\n",
       "         4.26805904e-03,  2.23474298e-02,  9.58673418e-01,  9.16548729e-01,\n",
       "         9.81721818e-01,  9.72533822e-01,  9.87985849e-01,  9.65769947e-01,\n",
       "         9.85367239e-01,  9.50616419e-01,  9.83218849e-01,  8.69299829e-01,\n",
       "         9.72576439e-01,  9.68574345e-01,  9.69687462e-01,  8.94152343e-01,\n",
       "         9.01211739e-01,  8.97838473e-01,  9.34489489e-01,  9.72824097e-01,\n",
       "         9.69244778e-01,  9.40584898e-01,  9.61981118e-01,  9.54511464e-01,\n",
       "         9.75857854e-01,  9.28001165e-01,  9.82705355e-01,  9.63939309e-01,\n",
       "         8.83758247e-01,  8.73927236e-01,  9.39406276e-01,  9.53454196e-01,\n",
       "         9.80544090e-01,  9.38058257e-01,  9.01396871e-01,  9.68637586e-01,\n",
       "         9.62422967e-01,  9.06970561e-01,  9.71756279e-01,  9.54579055e-01,\n",
       "         9.47799921e-01,  9.56768453e-01,  9.60090160e-01,  9.58356142e-01,\n",
       "         8.88884544e-01,  9.72977519e-01,  9.65604365e-01,  9.73423421e-01,\n",
       "         9.42329228e-01,  9.67126369e-01,  9.67713714e-01,  9.61611152e-01,\n",
       "         4.15019915e-02,  2.01369096e-02,  1.54929981e-02,  3.06241512e-02,\n",
       "        -4.57432447e-03, -3.72382440e-02,  3.41456868e-02, -3.89484726e-02,\n",
       "         2.24397518e-02,  2.40043234e-02,  2.55299322e-02,  3.73895504e-02,\n",
       "         4.75982539e-02, -2.55680289e-02, -2.81100273e-02,  5.55728935e-03,\n",
       "         2.48181876e-02,  3.20594236e-02,  3.23048718e-02,  3.49157788e-02,\n",
       "        -1.29644582e-02, -6.84434269e-03,  3.47520858e-02, -3.27822007e-03,\n",
       "         4.62417211e-03, -3.08424681e-02, -3.96444649e-02,  2.05553584e-02,\n",
       "        -2.26847436e-02, -2.02359329e-03,  2.58017965e-02,  2.96869203e-02,\n",
       "         2.94427369e-02,  2.96079721e-02, -1.28635773e-02, -3.67019475e-02,\n",
       "        -1.34775033e-02,  1.71551444e-02,  3.48451845e-02,  1.45127140e-02,\n",
       "         4.16423790e-02, -1.11514181e-02,  4.41459566e-02,  1.45387240e-02,\n",
       "        -9.67778452e-03,  2.12090034e-02,  2.92812120e-02,  2.23477408e-02,\n",
       "        -2.53643747e-02,  3.65491621e-02,  3.94979157e-02,  1.31758183e-01,\n",
       "         1.35477968e-02, -1.97459590e-02, -1.18738310e-02,  3.37421484e-02,\n",
       "         1.00911371e-02,  5.94850294e-02,  9.78493877e-03,  1.53831795e-01,\n",
       "        -4.73692873e-03,  7.00031454e-03,  7.49072507e-02,  3.26807857e-01,\n",
       "         1.08536214e-01, -5.60593642e-02,  6.88481927e-02, -2.46933405e-03,\n",
       "         6.64306507e-02,  1.84053462e-02, -8.24646442e-04, -2.82244161e-02,\n",
       "         5.49297640e-03, -7.43725821e-02,  2.53766552e-02,  2.55853944e-02,\n",
       "         1.73973247e-01,  1.89236984e-01,  8.49499628e-02, -3.29639725e-02,\n",
       "         6.37540454e-03,  1.04805946e-01,  1.02645256e-01, -1.01159280e-02,\n",
       "        -3.75204049e-02,  2.21834749e-01, -1.65607240e-02, -4.35884073e-02,\n",
       "         2.60154992e-01, -3.82755026e-02,  2.29828972e-02,  1.14578111e-02,\n",
       "         1.57121956e-01,  2.41614096e-02, -6.21567480e-03, -2.95354538e-02,\n",
       "         2.38055065e-01,  4.79102088e-03,  5.29103389e-04,  2.23567728e-02],\n",
       "       dtype=float32),\n",
       " array([[ 0.10761251,  0.04834983,  0.00211019, ...,  0.0318682 ,\n",
       "         -0.04383641, -0.08784895],\n",
       "        [ 0.04143623, -0.12155078,  0.09881644, ..., -0.19225098,\n",
       "         -0.07480476,  0.00225693],\n",
       "        [ 0.15308976, -0.00836638,  0.01571818, ..., -0.12108329,\n",
       "         -0.16152124,  0.03890308],\n",
       "        ...,\n",
       "        [ 0.02650461,  0.08273239,  0.09823985, ..., -0.08493578,\n",
       "         -0.15466984,  0.07094375],\n",
       "        [-0.0549327 , -0.11073674, -0.13988534, ..., -0.0150493 ,\n",
       "          0.11579325,  0.06647868],\n",
       "        [ 0.10871939,  0.0914923 ,  0.10664588, ..., -0.11985954,\n",
       "         -0.00157457,  0.08081481]], dtype=float32),\n",
       " array([[ 0.21672209, -0.04067837,  0.07138358, ..., -0.03838   ,\n",
       "          0.06889123, -0.03867543],\n",
       "        [-0.00998358,  0.03459229,  0.04416392, ...,  0.04009177,\n",
       "         -0.00049585,  0.08405811],\n",
       "        [-0.02073213,  0.00880814,  0.05029624, ...,  0.04902995,\n",
       "         -0.02615434,  0.02226478],\n",
       "        ...,\n",
       "        [ 0.0185722 , -0.09873267, -0.13054898, ...,  0.02307751,\n",
       "         -0.09167196,  0.05063906],\n",
       "        [ 0.0564033 , -0.07747291,  0.08489776, ...,  0.00260348,\n",
       "         -0.02198358,  0.04661791],\n",
       "        [ 0.12977074,  0.02994859, -0.06201839, ..., -0.04150785,\n",
       "         -0.0291519 ,  0.1088542 ]], dtype=float32),\n",
       " array([-1.42930588e-02,  4.00409428e-03,  5.60048316e-03, -1.69079173e-02,\n",
       "         2.16640416e-03,  2.57765651e-01,  3.29761021e-02, -1.76217817e-02,\n",
       "        -3.42377536e-02,  7.90512841e-03, -2.63736621e-02, -1.13082044e-02,\n",
       "         6.64243847e-02,  1.02521718e-01,  2.29599029e-02,  2.61704102e-02,\n",
       "        -2.43213773e-02,  1.56277150e-01,  1.93160623e-01, -3.66795175e-02,\n",
       "        -4.62164879e-02,  3.13348547e-02,  1.08236715e-01, -5.93854953e-03,\n",
       "         6.34814054e-02,  4.79192361e-02,  2.63383202e-02,  9.30512995e-02,\n",
       "         1.63209304e-01, -5.71859069e-02, -6.55264556e-02,  2.08189315e-03,\n",
       "         1.31808609e-01,  1.15942724e-01,  2.50925682e-02, -3.52665335e-02,\n",
       "         4.31400239e-02,  9.10430402e-02,  6.40235050e-03,  4.34204517e-03,\n",
       "        -2.72760391e-02, -1.62904002e-02,  1.43982708e-01,  6.05267212e-02,\n",
       "        -1.87074449e-02,  4.25038598e-02,  2.85712004e-01,  1.87457148e-02,\n",
       "        -8.24392959e-03, -3.00755799e-02,  9.55916166e-01,  9.58086848e-01,\n",
       "         9.19751287e-01,  9.67914283e-01,  9.64730263e-01,  8.83214653e-01,\n",
       "         9.48598206e-01,  9.64840949e-01,  9.54794288e-01,  9.70221341e-01,\n",
       "         9.61805463e-01,  9.79955673e-01,  9.48680162e-01,  7.90772796e-01,\n",
       "         9.54569161e-01,  8.90624583e-01,  9.35721517e-01,  7.76506186e-01,\n",
       "         9.07781959e-01,  8.65809083e-01,  9.32075858e-01,  9.68523502e-01,\n",
       "         8.74306619e-01,  9.24158156e-01,  9.37380731e-01,  9.59650218e-01,\n",
       "         8.91936421e-01,  8.81910384e-01,  9.35818672e-01,  9.41186726e-01,\n",
       "         9.15894330e-01,  9.69995499e-01,  9.15088832e-01,  8.97600651e-01,\n",
       "         9.55696106e-01,  9.52650964e-01,  9.75143433e-01,  9.19325531e-01,\n",
       "         9.78729427e-01,  9.60167587e-01,  9.78548467e-01,  9.36943591e-01,\n",
       "         8.22362840e-01,  9.50515628e-01,  9.73659694e-01,  9.68085349e-01,\n",
       "         8.10677290e-01,  9.76801336e-01,  9.69995916e-01,  9.62232113e-01,\n",
       "        -1.55686634e-02,  4.71373368e-03,  6.30173041e-03,  7.43479561e-03,\n",
       "         1.93287560e-03, -6.01804536e-03, -1.06496820e-02,  1.06346859e-02,\n",
       "        -1.56020075e-02, -6.08947920e-03,  8.18983000e-03, -2.41756858e-03,\n",
       "        -1.40576800e-02,  2.72328942e-03,  3.39392922e-03, -2.36668363e-02,\n",
       "        -2.25080457e-03, -3.42766568e-02,  6.45155972e-03, -2.21424829e-02,\n",
       "         7.31516490e-03,  1.02168713e-02, -1.42350933e-02,  5.48610091e-03,\n",
       "         1.46467471e-02,  6.53546071e-04,  3.32582444e-02,  1.39602032e-02,\n",
       "         1.70531473e-03,  1.09032576e-03,  1.62011117e-03,  3.73762770e-04,\n",
       "         1.04288291e-02,  6.54623285e-03, -3.75270518e-03, -5.17662847e-04,\n",
       "        -4.16260539e-03, -3.11931968e-03, -6.97907107e-03, -2.75755720e-03,\n",
       "         1.84899364e-02,  3.86115233e-03, -1.85632461e-03,  1.08063212e-02,\n",
       "         1.09057333e-02, -2.80241994e-03, -1.53419906e-02,  1.13747846e-02,\n",
       "         5.46567026e-04,  9.40014329e-03, -1.51598183e-02,  3.27662961e-03,\n",
       "         5.60064008e-03, -1.73900034e-02, -1.94877735e-03,  2.53602892e-01,\n",
       "         2.60380544e-02, -1.79899819e-02, -3.48097384e-02,  6.85630552e-03,\n",
       "        -2.79464033e-02, -1.11622233e-02,  6.15250878e-02,  1.00724682e-01,\n",
       "         1.94064900e-02,  2.02411916e-02, -2.54749656e-02,  1.50529161e-01,\n",
       "         1.88788235e-01, -3.57781202e-02, -4.54135090e-02,  2.52141934e-02,\n",
       "         1.07319161e-01, -7.77999777e-03,  4.88035418e-02,  4.47201617e-02,\n",
       "         2.34875493e-02,  9.73373204e-02,  1.47789896e-01, -5.76866716e-02,\n",
       "        -6.55989051e-02,  1.27258583e-03,  1.33414537e-01,  1.13253318e-01,\n",
       "         2.29780395e-02, -3.72075140e-02,  3.76057848e-02,  9.07152295e-02,\n",
       "         4.67475224e-03,  2.66991416e-03, -2.61792485e-02, -1.68199707e-02,\n",
       "         1.45849794e-01,  5.68509251e-02, -1.80190373e-02,  3.83592583e-02,\n",
       "         2.83776075e-01,  1.68921836e-02, -8.81439168e-03, -3.00525762e-02],\n",
       "       dtype=float32),\n",
       " array([[-0.1311364 , -0.19753526, -0.01443445, ..., -0.19158362,\n",
       "         -0.15585417,  0.25131315],\n",
       "        [-0.05905926, -0.12509866, -0.18600254, ..., -0.14071053,\n",
       "          0.03317532,  0.01703826],\n",
       "        [-0.24930833, -0.25578734,  0.11190104, ...,  0.24350928,\n",
       "         -0.00382978,  0.10685165],\n",
       "        ...,\n",
       "        [-0.26421234, -0.24202026, -0.04675397, ..., -0.02754111,\n",
       "         -0.13919257, -0.08603263],\n",
       "        [-0.20632848, -0.06105093,  0.16803168, ..., -0.18969074,\n",
       "         -0.06309727,  0.1760292 ],\n",
       "        [ 0.12139261,  0.17259596,  0.02220174, ...,  0.19972937,\n",
       "         -0.10349081,  0.07780141]], dtype=float32),\n",
       " array([ 0.00860036, -0.02256398, -0.02307514, -0.02412043,  0.00720702,\n",
       "        -0.02293232, -0.02434513,  0.02347406, -0.02297099, -0.02243481,\n",
       "        -0.01957033, -0.02341106,  0.02346294,  0.02394768, -0.01511697,\n",
       "        -0.02390492, -0.01663491, -0.02172127,  0.01773481, -0.01533407,\n",
       "         0.0221247 , -0.01712957,  0.02300891, -0.02173365, -0.02248704],\n",
       "       dtype=float32),\n",
       " array([[ 0.03329187],\n",
       "        [-0.23188712],\n",
       "        [-0.3779524 ],\n",
       "        [-0.4838558 ],\n",
       "        [ 0.03573798],\n",
       "        [-0.22292106],\n",
       "        [-0.30012798],\n",
       "        [ 0.4388565 ],\n",
       "        [-0.2891977 ],\n",
       "        [-0.21419917],\n",
       "        [-0.12852894],\n",
       "        [-0.4376242 ],\n",
       "        [ 0.4420144 ],\n",
       "        [ 0.4971385 ],\n",
       "        [-0.07091762],\n",
       "        [-0.4689587 ],\n",
       "        [-0.06818414],\n",
       "        [-0.18781443],\n",
       "        [ 0.09305525],\n",
       "        [-0.06415597],\n",
       "        [ 0.21222866],\n",
       "        [-0.07449599],\n",
       "        [ 0.26998493],\n",
       "        [-0.21455236],\n",
       "        [-0.3069744 ]], dtype=float32),\n",
       " array([0.02541064], dtype=float32)]"
      ]
     },
     "execution_count": 61,
     "metadata": {},
     "output_type": "execute_result"
    }
   ],
   "source": [
    "new_model.get_weights()"
   ]
  },
  {
   "cell_type": "code",
   "execution_count": 62,
   "metadata": {},
   "outputs": [
    {
     "data": {
      "text/plain": [
       "<keras.optimizers.Adam at 0x222b74f4e48>"
      ]
     },
     "execution_count": 62,
     "metadata": {},
     "output_type": "execute_result"
    }
   ],
   "source": [
    "new_model.optimizer"
   ]
  },
  {
   "cell_type": "code",
   "execution_count": 63,
   "metadata": {},
   "outputs": [
    {
     "ename": "ConverterError",
     "evalue": "See console for info.\n2020-05-25 16:42:16.494355: W tensorflow/stream_executor/platform/default/dso_loader.cc:55] Could not load dynamic library 'cudart64_101.dll'; dlerror: cudart64_101.dll not found\n2020-05-25 16:42:16.495183: I tensorflow/stream_executor/cuda/cudart_stub.cc:29] Ignore above cudart dlerror if you do not have a GPU set up on your machine.\nTraceback (most recent call last):\r\n  File \"c:\\users\\vivek vivian\\appdata\\local\\programs\\python\\python37\\lib\\runpy.py\", line 193, in _run_module_as_main\r\n    \"__main__\", mod_spec)\r\n  File \"c:\\users\\vivek vivian\\appdata\\local\\programs\\python\\python37\\lib\\runpy.py\", line 85, in _run_code\r\n    exec(code, run_globals)\r\n  File \"C:\\Users\\vivek vivian\\AppData\\Local\\Programs\\Python\\Python37\\Scripts\\toco_from_protos.exe\\__main__.py\", line 7, in <module>\r\n  File \"C:\\Users\\vivek vivian\\AppData\\Roaming\\Python\\Python37\\site-packages\\tensorflow_core\\lite\\toco\\python\\toco_from_protos.py\", line 93, in main\r\n    app.run(main=execute, argv=[sys.argv[0]] + unparsed)\r\n  File \"C:\\Users\\vivek vivian\\AppData\\Roaming\\Python\\Python37\\site-packages\\tensorflow_core\\python\\platform\\app.py\", line 40, in run\r\n    _run(main=main, argv=argv, flags_parser=_parse_flags_tolerate_undef)\r\n  File \"c:\\users\\vivek vivian\\appdata\\local\\programs\\python\\python37\\lib\\site-packages\\absl\\app.py\", line 299, in run\r\n    _run_main(main, args)\r\n  File \"c:\\users\\vivek vivian\\appdata\\local\\programs\\python\\python37\\lib\\site-packages\\absl\\app.py\", line 250, in _run_main\r\n    sys.exit(main(argv))\r\n  File \"C:\\Users\\vivek vivian\\AppData\\Roaming\\Python\\Python37\\site-packages\\tensorflow_core\\lite\\toco\\python\\toco_from_protos.py\", line 37, in execute\r\n    with open(FLAGS.toco_proto_file, \"rb\") as toco_file:\r\nFileNotFoundError: [Errno 2] No such file or directory: 'vivian\\\\AppData\\\\Local\\\\Temp\\\\tmppig2hay5'\r\n\n\n",
     "output_type": "error",
     "traceback": [
      "\u001b[1;31m---------------------------------------------------------------------------\u001b[0m",
      "\u001b[1;31mConverterError\u001b[0m                            Traceback (most recent call last)",
      "\u001b[1;32m<ipython-input-63-0524b14bcc54>\u001b[0m in \u001b[0;36m<module>\u001b[1;34m\u001b[0m\n\u001b[0;32m      3\u001b[0m \u001b[0mmodel\u001b[0m \u001b[1;33m=\u001b[0m \u001b[0mtf\u001b[0m\u001b[1;33m.\u001b[0m\u001b[0mkeras\u001b[0m\u001b[1;33m.\u001b[0m\u001b[0mmodels\u001b[0m\u001b[1;33m.\u001b[0m\u001b[0mload_model\u001b[0m\u001b[1;33m(\u001b[0m\u001b[1;34m'temp_pred.h5'\u001b[0m\u001b[1;33m)\u001b[0m\u001b[1;33m\u001b[0m\u001b[1;33m\u001b[0m\u001b[0m\n\u001b[0;32m      4\u001b[0m \u001b[0mconverter\u001b[0m \u001b[1;33m=\u001b[0m \u001b[0mtf\u001b[0m\u001b[1;33m.\u001b[0m\u001b[0mlite\u001b[0m\u001b[1;33m.\u001b[0m\u001b[0mTFLiteConverter\u001b[0m\u001b[1;33m.\u001b[0m\u001b[0mfrom_keras_model\u001b[0m\u001b[1;33m(\u001b[0m\u001b[0mmodel\u001b[0m\u001b[1;33m)\u001b[0m\u001b[1;33m\u001b[0m\u001b[1;33m\u001b[0m\u001b[0m\n\u001b[1;32m----> 5\u001b[1;33m \u001b[0mtflite_model\u001b[0m \u001b[1;33m=\u001b[0m \u001b[0mconverter\u001b[0m\u001b[1;33m.\u001b[0m\u001b[0mconvert\u001b[0m\u001b[1;33m(\u001b[0m\u001b[1;33m)\u001b[0m\u001b[1;33m\u001b[0m\u001b[1;33m\u001b[0m\u001b[0m\n\u001b[0m\u001b[0;32m      6\u001b[0m \u001b[0mopen\u001b[0m\u001b[1;33m(\u001b[0m\u001b[1;34m\"converted_model.tflite\"\u001b[0m\u001b[1;33m,\u001b[0m \u001b[1;34m\"wb\"\u001b[0m\u001b[1;33m)\u001b[0m\u001b[1;33m.\u001b[0m\u001b[0mwrite\u001b[0m\u001b[1;33m(\u001b[0m\u001b[0mtflite_model\u001b[0m\u001b[1;33m)\u001b[0m\u001b[1;33m\u001b[0m\u001b[1;33m\u001b[0m\u001b[0m\n",
      "\u001b[1;32m~\\AppData\\Roaming\\Python\\Python37\\site-packages\\tensorflow_core\\lite\\python\\lite.py\u001b[0m in \u001b[0;36mconvert\u001b[1;34m(self)\u001b[0m\n\u001b[0;32m    462\u001b[0m         \u001b[0minput_tensors\u001b[0m\u001b[1;33m=\u001b[0m\u001b[0minput_tensors\u001b[0m\u001b[1;33m,\u001b[0m\u001b[1;33m\u001b[0m\u001b[1;33m\u001b[0m\u001b[0m\n\u001b[0;32m    463\u001b[0m         \u001b[0moutput_tensors\u001b[0m\u001b[1;33m=\u001b[0m\u001b[0moutput_tensors\u001b[0m\u001b[1;33m,\u001b[0m\u001b[1;33m\u001b[0m\u001b[1;33m\u001b[0m\u001b[0m\n\u001b[1;32m--> 464\u001b[1;33m         **converter_kwargs)\n\u001b[0m\u001b[0;32m    465\u001b[0m \u001b[1;33m\u001b[0m\u001b[0m\n\u001b[0;32m    466\u001b[0m     \u001b[1;32mif\u001b[0m \u001b[0mself\u001b[0m\u001b[1;33m.\u001b[0m\u001b[0m_is_calibration_quantize\u001b[0m\u001b[1;33m(\u001b[0m\u001b[1;33m)\u001b[0m\u001b[1;33m:\u001b[0m\u001b[1;33m\u001b[0m\u001b[1;33m\u001b[0m\u001b[0m\n",
      "\u001b[1;32m~\\AppData\\Roaming\\Python\\Python37\\site-packages\\tensorflow_core\\lite\\python\\convert.py\u001b[0m in \u001b[0;36mtoco_convert_impl\u001b[1;34m(input_data, input_tensors, output_tensors, enable_mlir_converter, *args, **kwargs)\u001b[0m\n\u001b[0;32m    455\u001b[0m       \u001b[0minput_data\u001b[0m\u001b[1;33m.\u001b[0m\u001b[0mSerializeToString\u001b[0m\u001b[1;33m(\u001b[0m\u001b[1;33m)\u001b[0m\u001b[1;33m,\u001b[0m\u001b[1;33m\u001b[0m\u001b[1;33m\u001b[0m\u001b[0m\n\u001b[0;32m    456\u001b[0m       \u001b[0mdebug_info_str\u001b[0m\u001b[1;33m=\u001b[0m\u001b[0mdebug_info_str\u001b[0m\u001b[1;33m,\u001b[0m\u001b[1;33m\u001b[0m\u001b[1;33m\u001b[0m\u001b[0m\n\u001b[1;32m--> 457\u001b[1;33m       enable_mlir_converter=enable_mlir_converter)\n\u001b[0m\u001b[0;32m    458\u001b[0m   \u001b[1;32mreturn\u001b[0m \u001b[0mdata\u001b[0m\u001b[1;33m\u001b[0m\u001b[1;33m\u001b[0m\u001b[0m\n\u001b[0;32m    459\u001b[0m \u001b[1;33m\u001b[0m\u001b[0m\n",
      "\u001b[1;32m~\\AppData\\Roaming\\Python\\Python37\\site-packages\\tensorflow_core\\lite\\python\\convert.py\u001b[0m in \u001b[0;36mtoco_convert_protos\u001b[1;34m(model_flags_str, toco_flags_str, input_data_str, debug_info_str, enable_mlir_converter)\u001b[0m\n\u001b[0;32m    201\u001b[0m       \u001b[0mstdout\u001b[0m \u001b[1;33m=\u001b[0m \u001b[0m_try_convert_to_unicode\u001b[0m\u001b[1;33m(\u001b[0m\u001b[0mstdout\u001b[0m\u001b[1;33m)\u001b[0m\u001b[1;33m\u001b[0m\u001b[1;33m\u001b[0m\u001b[0m\n\u001b[0;32m    202\u001b[0m       \u001b[0mstderr\u001b[0m \u001b[1;33m=\u001b[0m \u001b[0m_try_convert_to_unicode\u001b[0m\u001b[1;33m(\u001b[0m\u001b[0mstderr\u001b[0m\u001b[1;33m)\u001b[0m\u001b[1;33m\u001b[0m\u001b[1;33m\u001b[0m\u001b[0m\n\u001b[1;32m--> 203\u001b[1;33m       \u001b[1;32mraise\u001b[0m \u001b[0mConverterError\u001b[0m\u001b[1;33m(\u001b[0m\u001b[1;34m\"See console for info.\\n%s\\n%s\\n\"\u001b[0m \u001b[1;33m%\u001b[0m \u001b[1;33m(\u001b[0m\u001b[0mstdout\u001b[0m\u001b[1;33m,\u001b[0m \u001b[0mstderr\u001b[0m\u001b[1;33m)\u001b[0m\u001b[1;33m)\u001b[0m\u001b[1;33m\u001b[0m\u001b[1;33m\u001b[0m\u001b[0m\n\u001b[0m\u001b[0;32m    204\u001b[0m   \u001b[1;32mfinally\u001b[0m\u001b[1;33m:\u001b[0m\u001b[1;33m\u001b[0m\u001b[1;33m\u001b[0m\u001b[0m\n\u001b[0;32m    205\u001b[0m     \u001b[1;31m# Must manually cleanup files.\u001b[0m\u001b[1;33m\u001b[0m\u001b[1;33m\u001b[0m\u001b[1;33m\u001b[0m\u001b[0m\n",
      "\u001b[1;31mConverterError\u001b[0m: See console for info.\n2020-05-25 16:42:16.494355: W tensorflow/stream_executor/platform/default/dso_loader.cc:55] Could not load dynamic library 'cudart64_101.dll'; dlerror: cudart64_101.dll not found\n2020-05-25 16:42:16.495183: I tensorflow/stream_executor/cuda/cudart_stub.cc:29] Ignore above cudart dlerror if you do not have a GPU set up on your machine.\nTraceback (most recent call last):\r\n  File \"c:\\users\\vivek vivian\\appdata\\local\\programs\\python\\python37\\lib\\runpy.py\", line 193, in _run_module_as_main\r\n    \"__main__\", mod_spec)\r\n  File \"c:\\users\\vivek vivian\\appdata\\local\\programs\\python\\python37\\lib\\runpy.py\", line 85, in _run_code\r\n    exec(code, run_globals)\r\n  File \"C:\\Users\\vivek vivian\\AppData\\Local\\Programs\\Python\\Python37\\Scripts\\toco_from_protos.exe\\__main__.py\", line 7, in <module>\r\n  File \"C:\\Users\\vivek vivian\\AppData\\Roaming\\Python\\Python37\\site-packages\\tensorflow_core\\lite\\toco\\python\\toco_from_protos.py\", line 93, in main\r\n    app.run(main=execute, argv=[sys.argv[0]] + unparsed)\r\n  File \"C:\\Users\\vivek vivian\\AppData\\Roaming\\Python\\Python37\\site-packages\\tensorflow_core\\python\\platform\\app.py\", line 40, in run\r\n    _run(main=main, argv=argv, flags_parser=_parse_flags_tolerate_undef)\r\n  File \"c:\\users\\vivek vivian\\appdata\\local\\programs\\python\\python37\\lib\\site-packages\\absl\\app.py\", line 299, in run\r\n    _run_main(main, args)\r\n  File \"c:\\users\\vivek vivian\\appdata\\local\\programs\\python\\python37\\lib\\site-packages\\absl\\app.py\", line 250, in _run_main\r\n    sys.exit(main(argv))\r\n  File \"C:\\Users\\vivek vivian\\AppData\\Roaming\\Python\\Python37\\site-packages\\tensorflow_core\\lite\\toco\\python\\toco_from_protos.py\", line 37, in execute\r\n    with open(FLAGS.toco_proto_file, \"rb\") as toco_file:\r\nFileNotFoundError: [Errno 2] No such file or directory: 'vivian\\\\AppData\\\\Local\\\\Temp\\\\tmppig2hay5'\r\n\n\n"
     ]
    }
   ],
   "source": [
    "import tensorflow as tf\n",
    "\n",
    "model = tf.keras.models.load_model('temp_pred.h5')\n",
    "converter = tf.lite.TFLiteConverter.from_keras_model(model)\n",
    "tflite_model = converter.convert()\n",
    "open(\"converted_model.tflite\", \"wb\").write(tflite_model)"
   ]
  },
  {
   "cell_type": "code",
   "execution_count": 64,
   "metadata": {
    "scrolled": false
   },
   "outputs": [
    {
     "ename": "AttributeError",
     "evalue": "type object 'TFLiteConverterV2' has no attribute 'from_keras_model_file'",
     "output_type": "error",
     "traceback": [
      "\u001b[1;31m---------------------------------------------------------------------------\u001b[0m",
      "\u001b[1;31mAttributeError\u001b[0m                            Traceback (most recent call last)",
      "\u001b[1;32m<ipython-input-64-ec781dfeb906>\u001b[0m in \u001b[0;36m<module>\u001b[1;34m\u001b[0m\n\u001b[0;32m      1\u001b[0m \u001b[1;32mimport\u001b[0m \u001b[0mtensorflow\u001b[0m \u001b[1;32mas\u001b[0m \u001b[0mtf\u001b[0m\u001b[1;33m\u001b[0m\u001b[1;33m\u001b[0m\u001b[0m\n\u001b[1;32m----> 2\u001b[1;33m \u001b[0mconverter\u001b[0m \u001b[1;33m=\u001b[0m \u001b[0mtf\u001b[0m\u001b[1;33m.\u001b[0m\u001b[0mlite\u001b[0m\u001b[1;33m.\u001b[0m\u001b[0mTFLiteConverter\u001b[0m\u001b[1;33m.\u001b[0m\u001b[0mfrom_keras_model_file\u001b[0m\u001b[1;33m(\u001b[0m\u001b[1;34m'temp_pred.h5'\u001b[0m\u001b[1;33m)\u001b[0m\u001b[1;33m\u001b[0m\u001b[1;33m\u001b[0m\u001b[0m\n\u001b[0m\u001b[0;32m      3\u001b[0m \u001b[0mmodel\u001b[0m \u001b[1;33m=\u001b[0m \u001b[0mconverter\u001b[0m\u001b[1;33m.\u001b[0m\u001b[0mconvert\u001b[0m\u001b[1;33m(\u001b[0m\u001b[1;33m)\u001b[0m\u001b[1;33m\u001b[0m\u001b[1;33m\u001b[0m\u001b[0m\n\u001b[0;32m      4\u001b[0m \u001b[0mfile\u001b[0m \u001b[1;33m=\u001b[0m \u001b[0mopen\u001b[0m\u001b[1;33m(\u001b[0m \u001b[1;34m'model.tflite'\u001b[0m \u001b[1;33m,\u001b[0m \u001b[1;34m'wb'\u001b[0m \u001b[1;33m)\u001b[0m\u001b[1;33m\u001b[0m\u001b[1;33m\u001b[0m\u001b[0m\n\u001b[0;32m      5\u001b[0m \u001b[0mfile\u001b[0m\u001b[1;33m.\u001b[0m\u001b[0mwrite\u001b[0m\u001b[1;33m(\u001b[0m \u001b[0mmodel\u001b[0m \u001b[1;33m)\u001b[0m\u001b[1;33m\u001b[0m\u001b[1;33m\u001b[0m\u001b[0m\n",
      "\u001b[1;31mAttributeError\u001b[0m: type object 'TFLiteConverterV2' has no attribute 'from_keras_model_file'"
     ]
    }
   ],
   "source": [
    "import tensorflow as tf\n",
    "converter = tf.lite.TFLiteConverter.from_keras_model_file('temp_pred.h5') \n",
    "model = converter.convert()\n",
    "file = open( 'model.tflite' , 'wb' )\n",
    "file.write( model )"
   ]
  },
  {
   "cell_type": "code",
   "execution_count": null,
   "metadata": {},
   "outputs": [],
   "source": []
  }
 ],
 "metadata": {
  "kernelspec": {
   "display_name": "Python 3",
   "language": "python",
   "name": "python3"
  },
  "language_info": {
   "codemirror_mode": {
    "name": "ipython",
    "version": 3
   },
   "file_extension": ".py",
   "mimetype": "text/x-python",
   "name": "python",
   "nbconvert_exporter": "python",
   "pygments_lexer": "ipython3",
   "version": "3.7.6"
  }
 },
 "nbformat": 4,
 "nbformat_minor": 4
}
